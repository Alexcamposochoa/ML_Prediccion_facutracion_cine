{
 "cells": [
  {
   "cell_type": "code",
   "execution_count": 178,
   "metadata": {},
   "outputs": [],
   "source": [
    "import numpy as np\n",
    "import pandas as pd\n",
    "from sklearn.preprocessing import LabelEncoder\n",
    "import seaborn as sns\n",
    "import matplotlib.pyplot as plt\n",
    "import numpy as np\n",
    "import pandas as pd\n",
    "from sklearn.model_selection import train_test_split, GridSearchCV\n",
    "from sklearn.pipeline import Pipeline\n",
    "from sklearn.preprocessing import StandardScaler\n",
    "from sklearn.linear_model import LinearRegression\n",
    "from sklearn.metrics import mean_absolute_error, mean_absolute_percentage_error, mean_squared_error\n",
    "from sklearn.linear_model import LogisticRegression\n",
    "from sklearn.decomposition import PCA\n",
    "from sklearn.metrics import accuracy_score, confusion_matrix"
   ]
  },
  {
   "cell_type": "code",
   "execution_count": 88,
   "metadata": {},
   "outputs": [],
   "source": [
    "pd.set_option('display.max_columns', 500)"
   ]
  },
  {
   "cell_type": "code",
   "execution_count": 89,
   "metadata": {},
   "outputs": [],
   "source": [
    "df = pd.read_csv('data/movies.csv')"
   ]
  },
  {
   "cell_type": "code",
   "execution_count": 90,
   "metadata": {},
   "outputs": [
    {
     "data": {
      "text/html": [
       "<div>\n",
       "<style scoped>\n",
       "    .dataframe tbody tr th:only-of-type {\n",
       "        vertical-align: middle;\n",
       "    }\n",
       "\n",
       "    .dataframe tbody tr th {\n",
       "        vertical-align: top;\n",
       "    }\n",
       "\n",
       "    .dataframe thead th {\n",
       "        text-align: right;\n",
       "    }\n",
       "</style>\n",
       "<table border=\"1\" class=\"dataframe\">\n",
       "  <thead>\n",
       "    <tr style=\"text-align: right;\">\n",
       "      <th></th>\n",
       "      <th>name</th>\n",
       "      <th>rating</th>\n",
       "      <th>genre</th>\n",
       "      <th>year</th>\n",
       "      <th>released</th>\n",
       "      <th>score</th>\n",
       "      <th>votes</th>\n",
       "      <th>director</th>\n",
       "      <th>writer</th>\n",
       "      <th>star</th>\n",
       "      <th>country</th>\n",
       "      <th>budget</th>\n",
       "      <th>gross</th>\n",
       "      <th>company</th>\n",
       "      <th>runtime</th>\n",
       "    </tr>\n",
       "  </thead>\n",
       "  <tbody>\n",
       "    <tr>\n",
       "      <th>0</th>\n",
       "      <td>The Shining</td>\n",
       "      <td>R</td>\n",
       "      <td>Drama</td>\n",
       "      <td>1980</td>\n",
       "      <td>June 13, 1980 (United States)</td>\n",
       "      <td>8.4</td>\n",
       "      <td>927000.0</td>\n",
       "      <td>Stanley Kubrick</td>\n",
       "      <td>Stephen King</td>\n",
       "      <td>Jack Nicholson</td>\n",
       "      <td>United Kingdom</td>\n",
       "      <td>19000000.0</td>\n",
       "      <td>46998772.0</td>\n",
       "      <td>Warner Bros.</td>\n",
       "      <td>146.0</td>\n",
       "    </tr>\n",
       "    <tr>\n",
       "      <th>1</th>\n",
       "      <td>The Blue Lagoon</td>\n",
       "      <td>R</td>\n",
       "      <td>Adventure</td>\n",
       "      <td>1980</td>\n",
       "      <td>July 2, 1980 (United States)</td>\n",
       "      <td>5.8</td>\n",
       "      <td>65000.0</td>\n",
       "      <td>Randal Kleiser</td>\n",
       "      <td>Henry De Vere Stacpoole</td>\n",
       "      <td>Brooke Shields</td>\n",
       "      <td>United States</td>\n",
       "      <td>4500000.0</td>\n",
       "      <td>58853106.0</td>\n",
       "      <td>Columbia Pictures</td>\n",
       "      <td>104.0</td>\n",
       "    </tr>\n",
       "    <tr>\n",
       "      <th>2</th>\n",
       "      <td>Star Wars: Episode V - The Empire Strikes Back</td>\n",
       "      <td>PG</td>\n",
       "      <td>Action</td>\n",
       "      <td>1980</td>\n",
       "      <td>June 20, 1980 (United States)</td>\n",
       "      <td>8.7</td>\n",
       "      <td>1200000.0</td>\n",
       "      <td>Irvin Kershner</td>\n",
       "      <td>Leigh Brackett</td>\n",
       "      <td>Mark Hamill</td>\n",
       "      <td>United States</td>\n",
       "      <td>18000000.0</td>\n",
       "      <td>538375067.0</td>\n",
       "      <td>Lucasfilm</td>\n",
       "      <td>124.0</td>\n",
       "    </tr>\n",
       "    <tr>\n",
       "      <th>3</th>\n",
       "      <td>Airplane!</td>\n",
       "      <td>PG</td>\n",
       "      <td>Comedy</td>\n",
       "      <td>1980</td>\n",
       "      <td>July 2, 1980 (United States)</td>\n",
       "      <td>7.7</td>\n",
       "      <td>221000.0</td>\n",
       "      <td>Jim Abrahams</td>\n",
       "      <td>Jim Abrahams</td>\n",
       "      <td>Robert Hays</td>\n",
       "      <td>United States</td>\n",
       "      <td>3500000.0</td>\n",
       "      <td>83453539.0</td>\n",
       "      <td>Paramount Pictures</td>\n",
       "      <td>88.0</td>\n",
       "    </tr>\n",
       "    <tr>\n",
       "      <th>4</th>\n",
       "      <td>Caddyshack</td>\n",
       "      <td>R</td>\n",
       "      <td>Comedy</td>\n",
       "      <td>1980</td>\n",
       "      <td>July 25, 1980 (United States)</td>\n",
       "      <td>7.3</td>\n",
       "      <td>108000.0</td>\n",
       "      <td>Harold Ramis</td>\n",
       "      <td>Brian Doyle-Murray</td>\n",
       "      <td>Chevy Chase</td>\n",
       "      <td>United States</td>\n",
       "      <td>6000000.0</td>\n",
       "      <td>39846344.0</td>\n",
       "      <td>Orion Pictures</td>\n",
       "      <td>98.0</td>\n",
       "    </tr>\n",
       "    <tr>\n",
       "      <th>...</th>\n",
       "      <td>...</td>\n",
       "      <td>...</td>\n",
       "      <td>...</td>\n",
       "      <td>...</td>\n",
       "      <td>...</td>\n",
       "      <td>...</td>\n",
       "      <td>...</td>\n",
       "      <td>...</td>\n",
       "      <td>...</td>\n",
       "      <td>...</td>\n",
       "      <td>...</td>\n",
       "      <td>...</td>\n",
       "      <td>...</td>\n",
       "      <td>...</td>\n",
       "      <td>...</td>\n",
       "    </tr>\n",
       "    <tr>\n",
       "      <th>7663</th>\n",
       "      <td>More to Life</td>\n",
       "      <td>NaN</td>\n",
       "      <td>Drama</td>\n",
       "      <td>2020</td>\n",
       "      <td>October 23, 2020 (United States)</td>\n",
       "      <td>3.1</td>\n",
       "      <td>18.0</td>\n",
       "      <td>Joseph Ebanks</td>\n",
       "      <td>Joseph Ebanks</td>\n",
       "      <td>Shannon Bond</td>\n",
       "      <td>United States</td>\n",
       "      <td>7000.0</td>\n",
       "      <td>NaN</td>\n",
       "      <td>NaN</td>\n",
       "      <td>90.0</td>\n",
       "    </tr>\n",
       "    <tr>\n",
       "      <th>7664</th>\n",
       "      <td>Dream Round</td>\n",
       "      <td>NaN</td>\n",
       "      <td>Comedy</td>\n",
       "      <td>2020</td>\n",
       "      <td>February 7, 2020 (United States)</td>\n",
       "      <td>4.7</td>\n",
       "      <td>36.0</td>\n",
       "      <td>Dusty Dukatz</td>\n",
       "      <td>Lisa Huston</td>\n",
       "      <td>Michael Saquella</td>\n",
       "      <td>United States</td>\n",
       "      <td>NaN</td>\n",
       "      <td>NaN</td>\n",
       "      <td>Cactus Blue Entertainment</td>\n",
       "      <td>90.0</td>\n",
       "    </tr>\n",
       "    <tr>\n",
       "      <th>7665</th>\n",
       "      <td>Saving Mbango</td>\n",
       "      <td>NaN</td>\n",
       "      <td>Drama</td>\n",
       "      <td>2020</td>\n",
       "      <td>April 27, 2020 (Cameroon)</td>\n",
       "      <td>5.7</td>\n",
       "      <td>29.0</td>\n",
       "      <td>Nkanya Nkwai</td>\n",
       "      <td>Lynno Lovert</td>\n",
       "      <td>Onyama Laura</td>\n",
       "      <td>United States</td>\n",
       "      <td>58750.0</td>\n",
       "      <td>NaN</td>\n",
       "      <td>Embi Productions</td>\n",
       "      <td>NaN</td>\n",
       "    </tr>\n",
       "    <tr>\n",
       "      <th>7666</th>\n",
       "      <td>It's Just Us</td>\n",
       "      <td>NaN</td>\n",
       "      <td>Drama</td>\n",
       "      <td>2020</td>\n",
       "      <td>October 1, 2020 (United States)</td>\n",
       "      <td>NaN</td>\n",
       "      <td>NaN</td>\n",
       "      <td>James Randall</td>\n",
       "      <td>James Randall</td>\n",
       "      <td>Christina Roz</td>\n",
       "      <td>United States</td>\n",
       "      <td>15000.0</td>\n",
       "      <td>NaN</td>\n",
       "      <td>NaN</td>\n",
       "      <td>120.0</td>\n",
       "    </tr>\n",
       "    <tr>\n",
       "      <th>7667</th>\n",
       "      <td>Tee em el</td>\n",
       "      <td>NaN</td>\n",
       "      <td>Horror</td>\n",
       "      <td>2020</td>\n",
       "      <td>August 19, 2020 (United States)</td>\n",
       "      <td>5.7</td>\n",
       "      <td>7.0</td>\n",
       "      <td>Pereko Mosia</td>\n",
       "      <td>Pereko Mosia</td>\n",
       "      <td>Siyabonga Mabaso</td>\n",
       "      <td>South Africa</td>\n",
       "      <td>NaN</td>\n",
       "      <td>NaN</td>\n",
       "      <td>PK 65 Films</td>\n",
       "      <td>102.0</td>\n",
       "    </tr>\n",
       "  </tbody>\n",
       "</table>\n",
       "<p>7668 rows × 15 columns</p>\n",
       "</div>"
      ],
      "text/plain": [
       "                                                name rating      genre  year  \\\n",
       "0                                        The Shining      R      Drama  1980   \n",
       "1                                    The Blue Lagoon      R  Adventure  1980   \n",
       "2     Star Wars: Episode V - The Empire Strikes Back     PG     Action  1980   \n",
       "3                                          Airplane!     PG     Comedy  1980   \n",
       "4                                         Caddyshack      R     Comedy  1980   \n",
       "...                                              ...    ...        ...   ...   \n",
       "7663                                    More to Life    NaN      Drama  2020   \n",
       "7664                                     Dream Round    NaN     Comedy  2020   \n",
       "7665                                   Saving Mbango    NaN      Drama  2020   \n",
       "7666                                    It's Just Us    NaN      Drama  2020   \n",
       "7667                                       Tee em el    NaN     Horror  2020   \n",
       "\n",
       "                              released  score      votes         director  \\\n",
       "0        June 13, 1980 (United States)    8.4   927000.0  Stanley Kubrick   \n",
       "1         July 2, 1980 (United States)    5.8    65000.0   Randal Kleiser   \n",
       "2        June 20, 1980 (United States)    8.7  1200000.0   Irvin Kershner   \n",
       "3         July 2, 1980 (United States)    7.7   221000.0     Jim Abrahams   \n",
       "4        July 25, 1980 (United States)    7.3   108000.0     Harold Ramis   \n",
       "...                                ...    ...        ...              ...   \n",
       "7663  October 23, 2020 (United States)    3.1       18.0    Joseph Ebanks   \n",
       "7664  February 7, 2020 (United States)    4.7       36.0     Dusty Dukatz   \n",
       "7665         April 27, 2020 (Cameroon)    5.7       29.0     Nkanya Nkwai   \n",
       "7666   October 1, 2020 (United States)    NaN        NaN    James Randall   \n",
       "7667   August 19, 2020 (United States)    5.7        7.0     Pereko Mosia   \n",
       "\n",
       "                       writer              star         country      budget  \\\n",
       "0                Stephen King    Jack Nicholson  United Kingdom  19000000.0   \n",
       "1     Henry De Vere Stacpoole    Brooke Shields   United States   4500000.0   \n",
       "2              Leigh Brackett       Mark Hamill   United States  18000000.0   \n",
       "3                Jim Abrahams       Robert Hays   United States   3500000.0   \n",
       "4          Brian Doyle-Murray       Chevy Chase   United States   6000000.0   \n",
       "...                       ...               ...             ...         ...   \n",
       "7663            Joseph Ebanks      Shannon Bond   United States      7000.0   \n",
       "7664              Lisa Huston  Michael Saquella   United States         NaN   \n",
       "7665             Lynno Lovert      Onyama Laura   United States     58750.0   \n",
       "7666            James Randall     Christina Roz   United States     15000.0   \n",
       "7667             Pereko Mosia  Siyabonga Mabaso    South Africa         NaN   \n",
       "\n",
       "            gross                    company  runtime  \n",
       "0      46998772.0               Warner Bros.    146.0  \n",
       "1      58853106.0          Columbia Pictures    104.0  \n",
       "2     538375067.0                  Lucasfilm    124.0  \n",
       "3      83453539.0         Paramount Pictures     88.0  \n",
       "4      39846344.0             Orion Pictures     98.0  \n",
       "...           ...                        ...      ...  \n",
       "7663          NaN                        NaN     90.0  \n",
       "7664          NaN  Cactus Blue Entertainment     90.0  \n",
       "7665          NaN           Embi Productions      NaN  \n",
       "7666          NaN                        NaN    120.0  \n",
       "7667          NaN                PK 65 Films    102.0  \n",
       "\n",
       "[7668 rows x 15 columns]"
      ]
     },
     "execution_count": 90,
     "metadata": {},
     "output_type": "execute_result"
    }
   ],
   "source": [
    "df"
   ]
  },
  {
   "cell_type": "code",
   "execution_count": 91,
   "metadata": {},
   "outputs": [
    {
     "name": "stdout",
     "output_type": "stream",
     "text": [
      "<class 'pandas.core.frame.DataFrame'>\n",
      "RangeIndex: 7668 entries, 0 to 7667\n",
      "Data columns (total 15 columns):\n",
      " #   Column    Non-Null Count  Dtype  \n",
      "---  ------    --------------  -----  \n",
      " 0   name      7668 non-null   object \n",
      " 1   rating    7591 non-null   object \n",
      " 2   genre     7668 non-null   object \n",
      " 3   year      7668 non-null   int64  \n",
      " 4   released  7666 non-null   object \n",
      " 5   score     7665 non-null   float64\n",
      " 6   votes     7665 non-null   float64\n",
      " 7   director  7668 non-null   object \n",
      " 8   writer    7665 non-null   object \n",
      " 9   star      7667 non-null   object \n",
      " 10  country   7665 non-null   object \n",
      " 11  budget    5497 non-null   float64\n",
      " 12  gross     7479 non-null   float64\n",
      " 13  company   7651 non-null   object \n",
      " 14  runtime   7664 non-null   float64\n",
      "dtypes: float64(5), int64(1), object(9)\n",
      "memory usage: 898.7+ KB\n"
     ]
    }
   ],
   "source": [
    "df.info()"
   ]
  },
  {
   "cell_type": "code",
   "execution_count": 92,
   "metadata": {},
   "outputs": [
    {
     "name": "stdout",
     "output_type": "stream",
     "text": [
      "12\n",
      "['R' 'PG' 'G' nan 'Not Rated' 'NC-17' 'Approved' 'TV-PG' 'PG-13' 'Unrated'\n",
      " 'X' 'TV-MA' 'TV-14']\n"
     ]
    }
   ],
   "source": [
    "print(df['rating'].nunique())\n",
    "#print(df['rating'].value_counts())\n",
    "print(df['rating'].unique())"
   ]
  },
  {
   "cell_type": "code",
   "execution_count": 93,
   "metadata": {},
   "outputs": [],
   "source": [
    "le = LabelEncoder()\n",
    "rating = df['rating']\n",
    "rating_codif = le.fit_transform(rating)\n",
    "df['rating_codif'] = le.fit_transform(df['rating'])"
   ]
  },
  {
   "cell_type": "code",
   "execution_count": 94,
   "metadata": {},
   "outputs": [
    {
     "name": "stdout",
     "output_type": "stream",
     "text": [
      "19\n",
      "['Drama' 'Adventure' 'Action' 'Comedy' 'Horror' 'Biography' 'Crime'\n",
      " 'Fantasy' 'Family' 'Sci-Fi' 'Animation' 'Romance' 'Music' 'Western'\n",
      " 'Thriller' 'History' 'Mystery' 'Sport' 'Musical']\n"
     ]
    }
   ],
   "source": [
    "print(df['genre'].nunique())\n",
    "#print(df['rating'].value_counts())\n",
    "print(df['genre'].unique())"
   ]
  },
  {
   "cell_type": "code",
   "execution_count": 95,
   "metadata": {},
   "outputs": [],
   "source": [
    "le = LabelEncoder()\n",
    "genre = df['genre']\n",
    "genre_codif = le.fit_transform(genre)\n",
    "df['genre_codif'] = le.fit_transform(df['genre'])"
   ]
  },
  {
   "cell_type": "code",
   "execution_count": 96,
   "metadata": {},
   "outputs": [
    {
     "data": {
      "text/plain": [
       "0          June 13, 1980 (United States)\n",
       "1           July 2, 1980 (United States)\n",
       "2          June 20, 1980 (United States)\n",
       "3           July 2, 1980 (United States)\n",
       "4          July 25, 1980 (United States)\n",
       "                      ...               \n",
       "7663    October 23, 2020 (United States)\n",
       "7664    February 7, 2020 (United States)\n",
       "7665           April 27, 2020 (Cameroon)\n",
       "7666     October 1, 2020 (United States)\n",
       "7667     August 19, 2020 (United States)\n",
       "Name: released, Length: 7668, dtype: object"
      ]
     },
     "execution_count": 96,
     "metadata": {},
     "output_type": "execute_result"
    }
   ],
   "source": [
    "df['released']"
   ]
  },
  {
   "cell_type": "code",
   "execution_count": 97,
   "metadata": {},
   "outputs": [
    {
     "data": {
      "text/plain": [
       "3414"
      ]
     },
     "execution_count": 97,
     "metadata": {},
     "output_type": "execute_result"
    }
   ],
   "source": [
    "df['released'].nunique()"
   ]
  },
  {
   "cell_type": "code",
   "execution_count": 98,
   "metadata": {},
   "outputs": [],
   "source": [
    "df['country_date'] = df['released'].str.extract(r'\\((.*?)\\)')"
   ]
  },
  {
   "cell_type": "code",
   "execution_count": 99,
   "metadata": {},
   "outputs": [],
   "source": [
    "df['month2'] = df['released'].str.extract(r'([a-zA-Z]+)')"
   ]
  },
  {
   "cell_type": "code",
   "execution_count": 100,
   "metadata": {},
   "outputs": [
    {
     "name": "stdout",
     "output_type": "stream",
     "text": [
      "2949\n",
      "['Stanley Kubrick' 'Randal Kleiser' 'Irvin Kershner' ... 'Nkanya Nkwai'\n",
      " 'James Randall' 'Pereko Mosia']\n"
     ]
    }
   ],
   "source": [
    "print(df['director'].nunique())\n",
    "#print(df['rating'].value_counts())\n",
    "print(df['director'].unique())"
   ]
  },
  {
   "cell_type": "code",
   "execution_count": 101,
   "metadata": {},
   "outputs": [],
   "source": [
    "le = LabelEncoder()\n",
    "director = df['director']\n",
    "director_codif = le.fit_transform(director)\n",
    "df['director_codif'] = le.fit_transform(df['director'])"
   ]
  },
  {
   "cell_type": "code",
   "execution_count": 102,
   "metadata": {},
   "outputs": [
    {
     "name": "stdout",
     "output_type": "stream",
     "text": [
      "4535\n",
      "['Stephen King' 'Henry De Vere Stacpoole' 'Leigh Brackett' ...\n",
      " 'Lynno Lovert' 'James Randall' 'Pereko Mosia']\n"
     ]
    }
   ],
   "source": [
    "print(df['writer'].nunique())\n",
    "#print(df['rating'].value_counts())\n",
    "print(df['writer'].unique())"
   ]
  },
  {
   "cell_type": "code",
   "execution_count": 103,
   "metadata": {},
   "outputs": [],
   "source": [
    "le = LabelEncoder()\n",
    "writer = df['writer']\n",
    "writer_codif = le.fit_transform(writer)\n",
    "df['writer_codif'] = le.fit_transform(df['writer'])"
   ]
  },
  {
   "cell_type": "code",
   "execution_count": 104,
   "metadata": {},
   "outputs": [
    {
     "name": "stdout",
     "output_type": "stream",
     "text": [
      "2814\n",
      "['Jack Nicholson' 'Brooke Shields' 'Mark Hamill' ... 'Onyama Laura'\n",
      " 'Christina Roz' 'Siyabonga Mabaso']\n"
     ]
    }
   ],
   "source": [
    "print(df['star'].nunique())\n",
    "#print(df['rating'].value_counts())\n",
    "print(df['star'].unique())"
   ]
  },
  {
   "cell_type": "code",
   "execution_count": 105,
   "metadata": {},
   "outputs": [],
   "source": [
    "le = LabelEncoder()\n",
    "star = df['star']\n",
    "star_codif = le.fit_transform(star)\n",
    "df['star_codif'] = le.fit_transform(df['star'])"
   ]
  },
  {
   "cell_type": "code",
   "execution_count": 106,
   "metadata": {},
   "outputs": [
    {
     "name": "stdout",
     "output_type": "stream",
     "text": [
      "59\n",
      "['United Kingdom' 'United States' 'South Africa' 'West Germany' 'Canada'\n",
      " 'Australia' 'Libya' 'Italy' 'Soviet Union' 'France' 'Hong Kong'\n",
      " 'South Korea' 'Sweden' 'Spain' 'Mexico' 'Switzerland' 'Netherlands'\n",
      " 'New Zealand' 'Philippines' 'Israel' 'Japan' 'Hungary' 'Brazil'\n",
      " 'Yugoslavia' 'Argentina' 'Taiwan' 'Ireland' 'Denmark' 'Germany' 'Iran'\n",
      " 'China' 'Belgium' 'Austria' 'Portugal' 'Vietnam' 'Republic of Macedonia'\n",
      " 'Russia' 'Federal Republic of Yugoslavia' 'Greece' 'Czech Republic'\n",
      " 'Norway' 'India' 'Jamaica' 'Aruba' 'Thailand' 'Colombia' 'Romania' nan\n",
      " 'United Arab Emirates' 'Indonesia' 'Turkey' 'Serbia' 'Poland' 'Kenya'\n",
      " 'Finland' 'Iceland' 'Chile' 'Panama' 'Malta' 'Lebanon']\n"
     ]
    }
   ],
   "source": [
    "print(df['country'].nunique())\n",
    "#print(df['rating'].value_counts())\n",
    "print(df['country'].unique())"
   ]
  },
  {
   "cell_type": "code",
   "execution_count": 107,
   "metadata": {},
   "outputs": [],
   "source": [
    "le = LabelEncoder()\n",
    "country = df['country']\n",
    "country_codif = le.fit_transform(country)\n",
    "df['country_codif'] = le.fit_transform(df['country'])"
   ]
  },
  {
   "cell_type": "code",
   "execution_count": 108,
   "metadata": {},
   "outputs": [
    {
     "name": "stdout",
     "output_type": "stream",
     "text": [
      "2385\n",
      "['Warner Bros.' 'Columbia Pictures' 'Lucasfilm' ... 'Dow Jazz Films'\n",
      " 'Embi Productions' 'PK 65 Films']\n"
     ]
    }
   ],
   "source": [
    "print(df['company'].nunique())\n",
    "#print(df['rating'].value_counts())\n",
    "print(df['company'].unique())"
   ]
  },
  {
   "cell_type": "code",
   "execution_count": 109,
   "metadata": {},
   "outputs": [],
   "source": [
    "le = LabelEncoder()\n",
    "company = df['company']\n",
    "company_codif = le.fit_transform(company)\n",
    "df['company_codif'] = le.fit_transform(df['company'])"
   ]
  },
  {
   "cell_type": "code",
   "execution_count": 110,
   "metadata": {},
   "outputs": [
    {
     "name": "stdout",
     "output_type": "stream",
     "text": [
      "12\n",
      "['R' 'PG' 'G' nan 'Not Rated' 'NC-17' 'Approved' 'TV-PG' 'PG-13' 'Unrated'\n",
      " 'X' 'TV-MA' 'TV-14']\n"
     ]
    }
   ],
   "source": [
    "print(df['rating'].nunique())\n",
    "#print(df['rating'].value_counts())\n",
    "print(df['rating'].unique())"
   ]
  },
  {
   "cell_type": "code",
   "execution_count": 111,
   "metadata": {},
   "outputs": [],
   "source": [
    "le = LabelEncoder()\n",
    "rating = df['rating']\n",
    "rating_codif = le.fit_transform(rating)\n",
    "df['rating_codif'] = le.fit_transform(df['rating'])"
   ]
  },
  {
   "cell_type": "code",
   "execution_count": 112,
   "metadata": {},
   "outputs": [],
   "source": [
    "le = LabelEncoder()\n",
    "name = df['name']\n",
    "name_ID = le.fit_transform(name)\n",
    "df['name_ID'] = le.fit_transform(df['name'])"
   ]
  },
  {
   "cell_type": "code",
   "execution_count": 113,
   "metadata": {},
   "outputs": [],
   "source": [
    "le = LabelEncoder()\n",
    "name = df['name']\n",
    "name_ID = le.fit_transform(name)\n",
    "df['name_ID'] = le.fit_transform(df['name'])"
   ]
  },
  {
   "cell_type": "code",
   "execution_count": 114,
   "metadata": {},
   "outputs": [],
   "source": [
    "df2 = df[['name_ID','year','score','votes','runtime','rating_codif','genre_codif','director_codif','writer_codif','star_codif','country_codif','company_codif','budget','gross']]"
   ]
  },
  {
   "cell_type": "code",
   "execution_count": 115,
   "metadata": {},
   "outputs": [
    {
     "data": {
      "text/html": [
       "<div>\n",
       "<style scoped>\n",
       "    .dataframe tbody tr th:only-of-type {\n",
       "        vertical-align: middle;\n",
       "    }\n",
       "\n",
       "    .dataframe tbody tr th {\n",
       "        vertical-align: top;\n",
       "    }\n",
       "\n",
       "    .dataframe thead th {\n",
       "        text-align: right;\n",
       "    }\n",
       "</style>\n",
       "<table border=\"1\" class=\"dataframe\">\n",
       "  <thead>\n",
       "    <tr style=\"text-align: right;\">\n",
       "      <th></th>\n",
       "      <th>name_ID</th>\n",
       "      <th>year</th>\n",
       "      <th>score</th>\n",
       "      <th>votes</th>\n",
       "      <th>runtime</th>\n",
       "      <th>rating_codif</th>\n",
       "      <th>genre_codif</th>\n",
       "      <th>director_codif</th>\n",
       "      <th>writer_codif</th>\n",
       "      <th>star_codif</th>\n",
       "      <th>country_codif</th>\n",
       "      <th>company_codif</th>\n",
       "      <th>budget</th>\n",
       "      <th>gross</th>\n",
       "    </tr>\n",
       "  </thead>\n",
       "  <tbody>\n",
       "    <tr>\n",
       "      <th>0</th>\n",
       "      <td>6587</td>\n",
       "      <td>1980</td>\n",
       "      <td>8.4</td>\n",
       "      <td>927000.0</td>\n",
       "      <td>146.0</td>\n",
       "      <td>6</td>\n",
       "      <td>6</td>\n",
       "      <td>2589</td>\n",
       "      <td>4014</td>\n",
       "      <td>1047</td>\n",
       "      <td>54</td>\n",
       "      <td>2319</td>\n",
       "      <td>19000000.0</td>\n",
       "      <td>46998772.0</td>\n",
       "    </tr>\n",
       "    <tr>\n",
       "      <th>1</th>\n",
       "      <td>5573</td>\n",
       "      <td>1980</td>\n",
       "      <td>5.8</td>\n",
       "      <td>65000.0</td>\n",
       "      <td>104.0</td>\n",
       "      <td>6</td>\n",
       "      <td>1</td>\n",
       "      <td>2269</td>\n",
       "      <td>1632</td>\n",
       "      <td>327</td>\n",
       "      <td>55</td>\n",
       "      <td>731</td>\n",
       "      <td>4500000.0</td>\n",
       "      <td>58853106.0</td>\n",
       "    </tr>\n",
       "    <tr>\n",
       "      <th>2</th>\n",
       "      <td>5142</td>\n",
       "      <td>1980</td>\n",
       "      <td>8.7</td>\n",
       "      <td>1200000.0</td>\n",
       "      <td>124.0</td>\n",
       "      <td>4</td>\n",
       "      <td>0</td>\n",
       "      <td>1111</td>\n",
       "      <td>2567</td>\n",
       "      <td>1745</td>\n",
       "      <td>55</td>\n",
       "      <td>1540</td>\n",
       "      <td>18000000.0</td>\n",
       "      <td>538375067.0</td>\n",
       "    </tr>\n",
       "    <tr>\n",
       "      <th>3</th>\n",
       "      <td>286</td>\n",
       "      <td>1980</td>\n",
       "      <td>7.7</td>\n",
       "      <td>221000.0</td>\n",
       "      <td>88.0</td>\n",
       "      <td>4</td>\n",
       "      <td>4</td>\n",
       "      <td>1301</td>\n",
       "      <td>2000</td>\n",
       "      <td>2246</td>\n",
       "      <td>55</td>\n",
       "      <td>1812</td>\n",
       "      <td>3500000.0</td>\n",
       "      <td>83453539.0</td>\n",
       "    </tr>\n",
       "    <tr>\n",
       "      <th>4</th>\n",
       "      <td>1027</td>\n",
       "      <td>1980</td>\n",
       "      <td>7.3</td>\n",
       "      <td>108000.0</td>\n",
       "      <td>98.0</td>\n",
       "      <td>6</td>\n",
       "      <td>4</td>\n",
       "      <td>1054</td>\n",
       "      <td>521</td>\n",
       "      <td>410</td>\n",
       "      <td>55</td>\n",
       "      <td>1777</td>\n",
       "      <td>6000000.0</td>\n",
       "      <td>39846344.0</td>\n",
       "    </tr>\n",
       "    <tr>\n",
       "      <th>...</th>\n",
       "      <td>...</td>\n",
       "      <td>...</td>\n",
       "      <td>...</td>\n",
       "      <td>...</td>\n",
       "      <td>...</td>\n",
       "      <td>...</td>\n",
       "      <td>...</td>\n",
       "      <td>...</td>\n",
       "      <td>...</td>\n",
       "      <td>...</td>\n",
       "      <td>...</td>\n",
       "      <td>...</td>\n",
       "      <td>...</td>\n",
       "      <td>...</td>\n",
       "    </tr>\n",
       "    <tr>\n",
       "      <th>7663</th>\n",
       "      <td>3705</td>\n",
       "      <td>2020</td>\n",
       "      <td>3.1</td>\n",
       "      <td>18.0</td>\n",
       "      <td>90.0</td>\n",
       "      <td>12</td>\n",
       "      <td>6</td>\n",
       "      <td>1500</td>\n",
       "      <td>2289</td>\n",
       "      <td>2421</td>\n",
       "      <td>55</td>\n",
       "      <td>2385</td>\n",
       "      <td>7000.0</td>\n",
       "      <td>NaN</td>\n",
       "    </tr>\n",
       "    <tr>\n",
       "      <th>7664</th>\n",
       "      <td>1678</td>\n",
       "      <td>2020</td>\n",
       "      <td>4.7</td>\n",
       "      <td>36.0</td>\n",
       "      <td>90.0</td>\n",
       "      <td>12</td>\n",
       "      <td>4</td>\n",
       "      <td>774</td>\n",
       "      <td>2614</td>\n",
       "      <td>1886</td>\n",
       "      <td>55</td>\n",
       "      <td>539</td>\n",
       "      <td>NaN</td>\n",
       "      <td>NaN</td>\n",
       "    </tr>\n",
       "    <tr>\n",
       "      <th>7665</th>\n",
       "      <td>4717</td>\n",
       "      <td>2020</td>\n",
       "      <td>5.7</td>\n",
       "      <td>29.0</td>\n",
       "      <td>NaN</td>\n",
       "      <td>12</td>\n",
       "      <td>6</td>\n",
       "      <td>2061</td>\n",
       "      <td>2683</td>\n",
       "      <td>2040</td>\n",
       "      <td>55</td>\n",
       "      <td>941</td>\n",
       "      <td>58750.0</td>\n",
       "      <td>NaN</td>\n",
       "    </tr>\n",
       "    <tr>\n",
       "      <th>7666</th>\n",
       "      <td>2843</td>\n",
       "      <td>2020</td>\n",
       "      <td>NaN</td>\n",
       "      <td>NaN</td>\n",
       "      <td>120.0</td>\n",
       "      <td>12</td>\n",
       "      <td>6</td>\n",
       "      <td>1184</td>\n",
       "      <td>1824</td>\n",
       "      <td>450</td>\n",
       "      <td>55</td>\n",
       "      <td>2385</td>\n",
       "      <td>15000.0</td>\n",
       "      <td>NaN</td>\n",
       "    </tr>\n",
       "    <tr>\n",
       "      <th>7667</th>\n",
       "      <td>5394</td>\n",
       "      <td>2020</td>\n",
       "      <td>5.7</td>\n",
       "      <td>7.0</td>\n",
       "      <td>102.0</td>\n",
       "      <td>12</td>\n",
       "      <td>10</td>\n",
       "      <td>2165</td>\n",
       "      <td>3344</td>\n",
       "      <td>2463</td>\n",
       "      <td>44</td>\n",
       "      <td>1787</td>\n",
       "      <td>NaN</td>\n",
       "      <td>NaN</td>\n",
       "    </tr>\n",
       "  </tbody>\n",
       "</table>\n",
       "<p>7668 rows × 14 columns</p>\n",
       "</div>"
      ],
      "text/plain": [
       "      name_ID  year  score      votes  runtime  rating_codif  genre_codif  \\\n",
       "0        6587  1980    8.4   927000.0    146.0             6            6   \n",
       "1        5573  1980    5.8    65000.0    104.0             6            1   \n",
       "2        5142  1980    8.7  1200000.0    124.0             4            0   \n",
       "3         286  1980    7.7   221000.0     88.0             4            4   \n",
       "4        1027  1980    7.3   108000.0     98.0             6            4   \n",
       "...       ...   ...    ...        ...      ...           ...          ...   \n",
       "7663     3705  2020    3.1       18.0     90.0            12            6   \n",
       "7664     1678  2020    4.7       36.0     90.0            12            4   \n",
       "7665     4717  2020    5.7       29.0      NaN            12            6   \n",
       "7666     2843  2020    NaN        NaN    120.0            12            6   \n",
       "7667     5394  2020    5.7        7.0    102.0            12           10   \n",
       "\n",
       "      director_codif  writer_codif  star_codif  country_codif  company_codif  \\\n",
       "0               2589          4014        1047             54           2319   \n",
       "1               2269          1632         327             55            731   \n",
       "2               1111          2567        1745             55           1540   \n",
       "3               1301          2000        2246             55           1812   \n",
       "4               1054           521         410             55           1777   \n",
       "...              ...           ...         ...            ...            ...   \n",
       "7663            1500          2289        2421             55           2385   \n",
       "7664             774          2614        1886             55            539   \n",
       "7665            2061          2683        2040             55            941   \n",
       "7666            1184          1824         450             55           2385   \n",
       "7667            2165          3344        2463             44           1787   \n",
       "\n",
       "          budget        gross  \n",
       "0     19000000.0   46998772.0  \n",
       "1      4500000.0   58853106.0  \n",
       "2     18000000.0  538375067.0  \n",
       "3      3500000.0   83453539.0  \n",
       "4      6000000.0   39846344.0  \n",
       "...          ...          ...  \n",
       "7663      7000.0          NaN  \n",
       "7664         NaN          NaN  \n",
       "7665     58750.0          NaN  \n",
       "7666     15000.0          NaN  \n",
       "7667         NaN          NaN  \n",
       "\n",
       "[7668 rows x 14 columns]"
      ]
     },
     "execution_count": 115,
     "metadata": {},
     "output_type": "execute_result"
    }
   ],
   "source": [
    "df2"
   ]
  },
  {
   "cell_type": "code",
   "execution_count": 116,
   "metadata": {},
   "outputs": [
    {
     "name": "stderr",
     "output_type": "stream",
     "text": [
      "C:\\Users\\Usuario\\AppData\\Local\\Temp\\ipykernel_16260\\2589221356.py:1: SettingWithCopyWarning: \n",
      "A value is trying to be set on a copy of a slice from a DataFrame.\n",
      "Try using .loc[row_indexer,col_indexer] = value instead\n",
      "\n",
      "See the caveats in the documentation: https://pandas.pydata.org/pandas-docs/stable/user_guide/indexing.html#returning-a-view-versus-a-copy\n",
      "  df2['year'] = df2['year'].astype(float)\n"
     ]
    }
   ],
   "source": [
    "df2['year'] = df2['year'].astype(float)"
   ]
  },
  {
   "cell_type": "code",
   "execution_count": 117,
   "metadata": {},
   "outputs": [
    {
     "data": {
      "text/plain": [
       "director_codif\n",
       "0        58000.000000\n",
       "1       177000.000000\n",
       "2       101000.000000\n",
       "3         4900.000000\n",
       "4        58000.000000\n",
       "            ...      \n",
       "2944     19000.000000\n",
       "2945      1353.500000\n",
       "2946      4000.000000\n",
       "2947      4828.571429\n",
       "2948      3900.000000\n",
       "Name: votes, Length: 2949, dtype: float64"
      ]
     },
     "execution_count": 117,
     "metadata": {},
     "output_type": "execute_result"
    }
   ],
   "source": [
    "df2.groupby('director_codif')['votes'].mean()"
   ]
  },
  {
   "cell_type": "code",
   "execution_count": 118,
   "metadata": {},
   "outputs": [
    {
     "name": "stderr",
     "output_type": "stream",
     "text": [
      "C:\\Users\\Usuario\\AppData\\Local\\Temp\\ipykernel_16260\\1674598091.py:1: SettingWithCopyWarning: \n",
      "A value is trying to be set on a copy of a slice from a DataFrame.\n",
      "Try using .loc[row_indexer,col_indexer] = value instead\n",
      "\n",
      "See the caveats in the documentation: https://pandas.pydata.org/pandas-docs/stable/user_guide/indexing.html#returning-a-view-versus-a-copy\n",
      "  df2['votos_por_director'] = df2.groupby('director_codif')['votes'].transform('mean').round(2)\n"
     ]
    }
   ],
   "source": [
    "df2['votos_por_director'] = df2.groupby('director_codif')['votes'].transform('mean').round(2)"
   ]
  },
  {
   "cell_type": "code",
   "execution_count": 119,
   "metadata": {},
   "outputs": [
    {
     "data": {
      "text/html": [
       "<div>\n",
       "<style scoped>\n",
       "    .dataframe tbody tr th:only-of-type {\n",
       "        vertical-align: middle;\n",
       "    }\n",
       "\n",
       "    .dataframe tbody tr th {\n",
       "        vertical-align: top;\n",
       "    }\n",
       "\n",
       "    .dataframe thead th {\n",
       "        text-align: right;\n",
       "    }\n",
       "</style>\n",
       "<table border=\"1\" class=\"dataframe\">\n",
       "  <thead>\n",
       "    <tr style=\"text-align: right;\">\n",
       "      <th></th>\n",
       "      <th>name_ID</th>\n",
       "      <th>year</th>\n",
       "      <th>score</th>\n",
       "      <th>votes</th>\n",
       "      <th>runtime</th>\n",
       "      <th>rating_codif</th>\n",
       "      <th>genre_codif</th>\n",
       "      <th>director_codif</th>\n",
       "      <th>writer_codif</th>\n",
       "      <th>star_codif</th>\n",
       "      <th>country_codif</th>\n",
       "      <th>company_codif</th>\n",
       "      <th>budget</th>\n",
       "      <th>gross</th>\n",
       "      <th>votos_por_director</th>\n",
       "    </tr>\n",
       "  </thead>\n",
       "  <tbody>\n",
       "    <tr>\n",
       "      <th>0</th>\n",
       "      <td>6587</td>\n",
       "      <td>1980.0</td>\n",
       "      <td>8.4</td>\n",
       "      <td>927000.0</td>\n",
       "      <td>146.0</td>\n",
       "      <td>6</td>\n",
       "      <td>6</td>\n",
       "      <td>2589</td>\n",
       "      <td>4014</td>\n",
       "      <td>1047</td>\n",
       "      <td>54</td>\n",
       "      <td>2319</td>\n",
       "      <td>19000000.0</td>\n",
       "      <td>46998772.0</td>\n",
       "      <td>643666.67</td>\n",
       "    </tr>\n",
       "    <tr>\n",
       "      <th>1</th>\n",
       "      <td>5573</td>\n",
       "      <td>1980.0</td>\n",
       "      <td>5.8</td>\n",
       "      <td>65000.0</td>\n",
       "      <td>104.0</td>\n",
       "      <td>6</td>\n",
       "      <td>1</td>\n",
       "      <td>2269</td>\n",
       "      <td>1632</td>\n",
       "      <td>327</td>\n",
       "      <td>55</td>\n",
       "      <td>731</td>\n",
       "      <td>4500000.0</td>\n",
       "      <td>58853106.0</td>\n",
       "      <td>23394.88</td>\n",
       "    </tr>\n",
       "    <tr>\n",
       "      <th>2</th>\n",
       "      <td>5142</td>\n",
       "      <td>1980.0</td>\n",
       "      <td>8.7</td>\n",
       "      <td>1200000.0</td>\n",
       "      <td>124.0</td>\n",
       "      <td>4</td>\n",
       "      <td>0</td>\n",
       "      <td>1111</td>\n",
       "      <td>2567</td>\n",
       "      <td>1745</td>\n",
       "      <td>55</td>\n",
       "      <td>1540</td>\n",
       "      <td>18000000.0</td>\n",
       "      <td>538375067.0</td>\n",
       "      <td>448666.67</td>\n",
       "    </tr>\n",
       "    <tr>\n",
       "      <th>3</th>\n",
       "      <td>286</td>\n",
       "      <td>1980.0</td>\n",
       "      <td>7.7</td>\n",
       "      <td>221000.0</td>\n",
       "      <td>88.0</td>\n",
       "      <td>4</td>\n",
       "      <td>4</td>\n",
       "      <td>1301</td>\n",
       "      <td>2000</td>\n",
       "      <td>2246</td>\n",
       "      <td>55</td>\n",
       "      <td>1812</td>\n",
       "      <td>3500000.0</td>\n",
       "      <td>83453539.0</td>\n",
       "      <td>66375.00</td>\n",
       "    </tr>\n",
       "    <tr>\n",
       "      <th>4</th>\n",
       "      <td>1027</td>\n",
       "      <td>1980.0</td>\n",
       "      <td>7.3</td>\n",
       "      <td>108000.0</td>\n",
       "      <td>98.0</td>\n",
       "      <td>6</td>\n",
       "      <td>4</td>\n",
       "      <td>1054</td>\n",
       "      <td>521</td>\n",
       "      <td>410</td>\n",
       "      <td>55</td>\n",
       "      <td>1777</td>\n",
       "      <td>6000000.0</td>\n",
       "      <td>39846344.0</td>\n",
       "      <td>139766.67</td>\n",
       "    </tr>\n",
       "  </tbody>\n",
       "</table>\n",
       "</div>"
      ],
      "text/plain": [
       "   name_ID    year  score      votes  runtime  rating_codif  genre_codif  \\\n",
       "0     6587  1980.0    8.4   927000.0    146.0             6            6   \n",
       "1     5573  1980.0    5.8    65000.0    104.0             6            1   \n",
       "2     5142  1980.0    8.7  1200000.0    124.0             4            0   \n",
       "3      286  1980.0    7.7   221000.0     88.0             4            4   \n",
       "4     1027  1980.0    7.3   108000.0     98.0             6            4   \n",
       "\n",
       "   director_codif  writer_codif  star_codif  country_codif  company_codif  \\\n",
       "0            2589          4014        1047             54           2319   \n",
       "1            2269          1632         327             55            731   \n",
       "2            1111          2567        1745             55           1540   \n",
       "3            1301          2000        2246             55           1812   \n",
       "4            1054           521         410             55           1777   \n",
       "\n",
       "       budget        gross  votos_por_director  \n",
       "0  19000000.0   46998772.0           643666.67  \n",
       "1   4500000.0   58853106.0            23394.88  \n",
       "2  18000000.0  538375067.0           448666.67  \n",
       "3   3500000.0   83453539.0            66375.00  \n",
       "4   6000000.0   39846344.0           139766.67  "
      ]
     },
     "execution_count": 119,
     "metadata": {},
     "output_type": "execute_result"
    }
   ],
   "source": [
    "df2.head()"
   ]
  },
  {
   "cell_type": "code",
   "execution_count": 120,
   "metadata": {},
   "outputs": [],
   "source": [
    "mascara = df2[df2['director_codif'] == 2589 ]"
   ]
  },
  {
   "cell_type": "code",
   "execution_count": 121,
   "metadata": {},
   "outputs": [
    {
     "data": {
      "text/html": [
       "<div>\n",
       "<style scoped>\n",
       "    .dataframe tbody tr th:only-of-type {\n",
       "        vertical-align: middle;\n",
       "    }\n",
       "\n",
       "    .dataframe tbody tr th {\n",
       "        vertical-align: top;\n",
       "    }\n",
       "\n",
       "    .dataframe thead th {\n",
       "        text-align: right;\n",
       "    }\n",
       "</style>\n",
       "<table border=\"1\" class=\"dataframe\">\n",
       "  <thead>\n",
       "    <tr style=\"text-align: right;\">\n",
       "      <th></th>\n",
       "      <th>name_ID</th>\n",
       "      <th>year</th>\n",
       "      <th>score</th>\n",
       "      <th>votes</th>\n",
       "      <th>runtime</th>\n",
       "      <th>rating_codif</th>\n",
       "      <th>genre_codif</th>\n",
       "      <th>director_codif</th>\n",
       "      <th>writer_codif</th>\n",
       "      <th>star_codif</th>\n",
       "      <th>country_codif</th>\n",
       "      <th>company_codif</th>\n",
       "      <th>budget</th>\n",
       "      <th>gross</th>\n",
       "      <th>votos_por_director</th>\n",
       "    </tr>\n",
       "  </thead>\n",
       "  <tbody>\n",
       "    <tr>\n",
       "      <th>0</th>\n",
       "      <td>6587</td>\n",
       "      <td>1980.0</td>\n",
       "      <td>8.4</td>\n",
       "      <td>927000.0</td>\n",
       "      <td>146.0</td>\n",
       "      <td>6</td>\n",
       "      <td>6</td>\n",
       "      <td>2589</td>\n",
       "      <td>4014</td>\n",
       "      <td>1047</td>\n",
       "      <td>54</td>\n",
       "      <td>2319</td>\n",
       "      <td>19000000.0</td>\n",
       "      <td>46998772.0</td>\n",
       "      <td>643666.67</td>\n",
       "    </tr>\n",
       "    <tr>\n",
       "      <th>1045</th>\n",
       "      <td>2135</td>\n",
       "      <td>1987.0</td>\n",
       "      <td>8.3</td>\n",
       "      <td>691000.0</td>\n",
       "      <td>116.0</td>\n",
       "      <td>6</td>\n",
       "      <td>6</td>\n",
       "      <td>2589</td>\n",
       "      <td>3987</td>\n",
       "      <td>1803</td>\n",
       "      <td>54</td>\n",
       "      <td>1699</td>\n",
       "      <td>30000000.0</td>\n",
       "      <td>46357676.0</td>\n",
       "      <td>643666.67</td>\n",
       "    </tr>\n",
       "    <tr>\n",
       "      <th>3446</th>\n",
       "      <td>1885</td>\n",
       "      <td>1999.0</td>\n",
       "      <td>7.4</td>\n",
       "      <td>313000.0</td>\n",
       "      <td>159.0</td>\n",
       "      <td>12</td>\n",
       "      <td>6</td>\n",
       "      <td>2589</td>\n",
       "      <td>3987</td>\n",
       "      <td>2635</td>\n",
       "      <td>54</td>\n",
       "      <td>2319</td>\n",
       "      <td>65000000.0</td>\n",
       "      <td>162242684.0</td>\n",
       "      <td>643666.67</td>\n",
       "    </tr>\n",
       "  </tbody>\n",
       "</table>\n",
       "</div>"
      ],
      "text/plain": [
       "      name_ID    year  score     votes  runtime  rating_codif  genre_codif  \\\n",
       "0        6587  1980.0    8.4  927000.0    146.0             6            6   \n",
       "1045     2135  1987.0    8.3  691000.0    116.0             6            6   \n",
       "3446     1885  1999.0    7.4  313000.0    159.0            12            6   \n",
       "\n",
       "      director_codif  writer_codif  star_codif  country_codif  company_codif  \\\n",
       "0               2589          4014        1047             54           2319   \n",
       "1045            2589          3987        1803             54           1699   \n",
       "3446            2589          3987        2635             54           2319   \n",
       "\n",
       "          budget        gross  votos_por_director  \n",
       "0     19000000.0   46998772.0           643666.67  \n",
       "1045  30000000.0   46357676.0           643666.67  \n",
       "3446  65000000.0  162242684.0           643666.67  "
      ]
     },
     "execution_count": 121,
     "metadata": {},
     "output_type": "execute_result"
    }
   ],
   "source": [
    "mascara"
   ]
  },
  {
   "cell_type": "code",
   "execution_count": 122,
   "metadata": {},
   "outputs": [
    {
     "data": {
      "text/plain": [
       "643666.6666666666"
      ]
     },
     "execution_count": 122,
     "metadata": {},
     "output_type": "execute_result"
    }
   ],
   "source": [
    "mascara['votes'].mean()"
   ]
  },
  {
   "cell_type": "code",
   "execution_count": 123,
   "metadata": {},
   "outputs": [
    {
     "data": {
      "text/plain": [
       "Index(['name_ID', 'year', 'score', 'votes', 'runtime', 'rating_codif',\n",
       "       'genre_codif', 'director_codif', 'writer_codif', 'star_codif',\n",
       "       'country_codif', 'company_codif', 'budget', 'gross',\n",
       "       'votos_por_director'],\n",
       "      dtype='object')"
      ]
     },
     "execution_count": 123,
     "metadata": {},
     "output_type": "execute_result"
    }
   ],
   "source": [
    "df2.columns"
   ]
  },
  {
   "cell_type": "code",
   "execution_count": 124,
   "metadata": {},
   "outputs": [],
   "source": [
    "columnas_deseadas = ['name_ID', 'year', 'score', 'runtime', 'rating_codif', 'genre_codif', 'company_codif', 'budget', 'votos_por_director', 'gross']\n",
    "df3 = df2.loc[:, columnas_deseadas]"
   ]
  },
  {
   "cell_type": "code",
   "execution_count": 125,
   "metadata": {},
   "outputs": [
    {
     "data": {
      "text/html": [
       "<div>\n",
       "<style scoped>\n",
       "    .dataframe tbody tr th:only-of-type {\n",
       "        vertical-align: middle;\n",
       "    }\n",
       "\n",
       "    .dataframe tbody tr th {\n",
       "        vertical-align: top;\n",
       "    }\n",
       "\n",
       "    .dataframe thead th {\n",
       "        text-align: right;\n",
       "    }\n",
       "</style>\n",
       "<table border=\"1\" class=\"dataframe\">\n",
       "  <thead>\n",
       "    <tr style=\"text-align: right;\">\n",
       "      <th></th>\n",
       "      <th>name_ID</th>\n",
       "      <th>year</th>\n",
       "      <th>score</th>\n",
       "      <th>runtime</th>\n",
       "      <th>rating_codif</th>\n",
       "      <th>genre_codif</th>\n",
       "      <th>company_codif</th>\n",
       "      <th>budget</th>\n",
       "      <th>votos_por_director</th>\n",
       "      <th>gross</th>\n",
       "    </tr>\n",
       "  </thead>\n",
       "  <tbody>\n",
       "    <tr>\n",
       "      <th>0</th>\n",
       "      <td>6587</td>\n",
       "      <td>1980.0</td>\n",
       "      <td>8.4</td>\n",
       "      <td>146.0</td>\n",
       "      <td>6</td>\n",
       "      <td>6</td>\n",
       "      <td>2319</td>\n",
       "      <td>19000000.0</td>\n",
       "      <td>643666.67</td>\n",
       "      <td>46998772.0</td>\n",
       "    </tr>\n",
       "    <tr>\n",
       "      <th>1</th>\n",
       "      <td>5573</td>\n",
       "      <td>1980.0</td>\n",
       "      <td>5.8</td>\n",
       "      <td>104.0</td>\n",
       "      <td>6</td>\n",
       "      <td>1</td>\n",
       "      <td>731</td>\n",
       "      <td>4500000.0</td>\n",
       "      <td>23394.88</td>\n",
       "      <td>58853106.0</td>\n",
       "    </tr>\n",
       "    <tr>\n",
       "      <th>2</th>\n",
       "      <td>5142</td>\n",
       "      <td>1980.0</td>\n",
       "      <td>8.7</td>\n",
       "      <td>124.0</td>\n",
       "      <td>4</td>\n",
       "      <td>0</td>\n",
       "      <td>1540</td>\n",
       "      <td>18000000.0</td>\n",
       "      <td>448666.67</td>\n",
       "      <td>538375067.0</td>\n",
       "    </tr>\n",
       "    <tr>\n",
       "      <th>3</th>\n",
       "      <td>286</td>\n",
       "      <td>1980.0</td>\n",
       "      <td>7.7</td>\n",
       "      <td>88.0</td>\n",
       "      <td>4</td>\n",
       "      <td>4</td>\n",
       "      <td>1812</td>\n",
       "      <td>3500000.0</td>\n",
       "      <td>66375.00</td>\n",
       "      <td>83453539.0</td>\n",
       "    </tr>\n",
       "    <tr>\n",
       "      <th>4</th>\n",
       "      <td>1027</td>\n",
       "      <td>1980.0</td>\n",
       "      <td>7.3</td>\n",
       "      <td>98.0</td>\n",
       "      <td>6</td>\n",
       "      <td>4</td>\n",
       "      <td>1777</td>\n",
       "      <td>6000000.0</td>\n",
       "      <td>139766.67</td>\n",
       "      <td>39846344.0</td>\n",
       "    </tr>\n",
       "    <tr>\n",
       "      <th>...</th>\n",
       "      <td>...</td>\n",
       "      <td>...</td>\n",
       "      <td>...</td>\n",
       "      <td>...</td>\n",
       "      <td>...</td>\n",
       "      <td>...</td>\n",
       "      <td>...</td>\n",
       "      <td>...</td>\n",
       "      <td>...</td>\n",
       "      <td>...</td>\n",
       "    </tr>\n",
       "    <tr>\n",
       "      <th>7663</th>\n",
       "      <td>3705</td>\n",
       "      <td>2020.0</td>\n",
       "      <td>3.1</td>\n",
       "      <td>90.0</td>\n",
       "      <td>12</td>\n",
       "      <td>6</td>\n",
       "      <td>2385</td>\n",
       "      <td>7000.0</td>\n",
       "      <td>18.00</td>\n",
       "      <td>NaN</td>\n",
       "    </tr>\n",
       "    <tr>\n",
       "      <th>7664</th>\n",
       "      <td>1678</td>\n",
       "      <td>2020.0</td>\n",
       "      <td>4.7</td>\n",
       "      <td>90.0</td>\n",
       "      <td>12</td>\n",
       "      <td>4</td>\n",
       "      <td>539</td>\n",
       "      <td>NaN</td>\n",
       "      <td>36.00</td>\n",
       "      <td>NaN</td>\n",
       "    </tr>\n",
       "    <tr>\n",
       "      <th>7665</th>\n",
       "      <td>4717</td>\n",
       "      <td>2020.0</td>\n",
       "      <td>5.7</td>\n",
       "      <td>NaN</td>\n",
       "      <td>12</td>\n",
       "      <td>6</td>\n",
       "      <td>941</td>\n",
       "      <td>58750.0</td>\n",
       "      <td>29.00</td>\n",
       "      <td>NaN</td>\n",
       "    </tr>\n",
       "    <tr>\n",
       "      <th>7666</th>\n",
       "      <td>2843</td>\n",
       "      <td>2020.0</td>\n",
       "      <td>NaN</td>\n",
       "      <td>120.0</td>\n",
       "      <td>12</td>\n",
       "      <td>6</td>\n",
       "      <td>2385</td>\n",
       "      <td>15000.0</td>\n",
       "      <td>NaN</td>\n",
       "      <td>NaN</td>\n",
       "    </tr>\n",
       "    <tr>\n",
       "      <th>7667</th>\n",
       "      <td>5394</td>\n",
       "      <td>2020.0</td>\n",
       "      <td>5.7</td>\n",
       "      <td>102.0</td>\n",
       "      <td>12</td>\n",
       "      <td>10</td>\n",
       "      <td>1787</td>\n",
       "      <td>NaN</td>\n",
       "      <td>7.00</td>\n",
       "      <td>NaN</td>\n",
       "    </tr>\n",
       "  </tbody>\n",
       "</table>\n",
       "<p>7668 rows × 10 columns</p>\n",
       "</div>"
      ],
      "text/plain": [
       "      name_ID    year  score  runtime  rating_codif  genre_codif  \\\n",
       "0        6587  1980.0    8.4    146.0             6            6   \n",
       "1        5573  1980.0    5.8    104.0             6            1   \n",
       "2        5142  1980.0    8.7    124.0             4            0   \n",
       "3         286  1980.0    7.7     88.0             4            4   \n",
       "4        1027  1980.0    7.3     98.0             6            4   \n",
       "...       ...     ...    ...      ...           ...          ...   \n",
       "7663     3705  2020.0    3.1     90.0            12            6   \n",
       "7664     1678  2020.0    4.7     90.0            12            4   \n",
       "7665     4717  2020.0    5.7      NaN            12            6   \n",
       "7666     2843  2020.0    NaN    120.0            12            6   \n",
       "7667     5394  2020.0    5.7    102.0            12           10   \n",
       "\n",
       "      company_codif      budget  votos_por_director        gross  \n",
       "0              2319  19000000.0           643666.67   46998772.0  \n",
       "1               731   4500000.0            23394.88   58853106.0  \n",
       "2              1540  18000000.0           448666.67  538375067.0  \n",
       "3              1812   3500000.0            66375.00   83453539.0  \n",
       "4              1777   6000000.0           139766.67   39846344.0  \n",
       "...             ...         ...                 ...          ...  \n",
       "7663           2385      7000.0               18.00          NaN  \n",
       "7664            539         NaN               36.00          NaN  \n",
       "7665            941     58750.0               29.00          NaN  \n",
       "7666           2385     15000.0                 NaN          NaN  \n",
       "7667           1787         NaN                7.00          NaN  \n",
       "\n",
       "[7668 rows x 10 columns]"
      ]
     },
     "execution_count": 125,
     "metadata": {},
     "output_type": "execute_result"
    }
   ],
   "source": [
    "df3"
   ]
  },
  {
   "cell_type": "code",
   "execution_count": 126,
   "metadata": {},
   "outputs": [
    {
     "name": "stdout",
     "output_type": "stream",
     "text": [
      "<class 'pandas.core.frame.DataFrame'>\n",
      "RangeIndex: 7668 entries, 0 to 7667\n",
      "Data columns (total 10 columns):\n",
      " #   Column              Non-Null Count  Dtype  \n",
      "---  ------              --------------  -----  \n",
      " 0   name_ID             7668 non-null   int32  \n",
      " 1   year                7668 non-null   float64\n",
      " 2   score               7665 non-null   float64\n",
      " 3   runtime             7664 non-null   float64\n",
      " 4   rating_codif        7668 non-null   int32  \n",
      " 5   genre_codif         7668 non-null   int32  \n",
      " 6   company_codif       7668 non-null   int32  \n",
      " 7   budget              5497 non-null   float64\n",
      " 8   votos_por_director  7666 non-null   float64\n",
      " 9   gross               7479 non-null   float64\n",
      "dtypes: float64(6), int32(4)\n",
      "memory usage: 479.4 KB\n"
     ]
    }
   ],
   "source": [
    "df3.info()"
   ]
  },
  {
   "cell_type": "code",
   "execution_count": 127,
   "metadata": {},
   "outputs": [
    {
     "data": {
      "text/html": [
       "<div>\n",
       "<style scoped>\n",
       "    .dataframe tbody tr th:only-of-type {\n",
       "        vertical-align: middle;\n",
       "    }\n",
       "\n",
       "    .dataframe tbody tr th {\n",
       "        vertical-align: top;\n",
       "    }\n",
       "\n",
       "    .dataframe thead th {\n",
       "        text-align: right;\n",
       "    }\n",
       "</style>\n",
       "<table border=\"1\" class=\"dataframe\">\n",
       "  <thead>\n",
       "    <tr style=\"text-align: right;\">\n",
       "      <th></th>\n",
       "      <th>name_ID</th>\n",
       "      <th>year</th>\n",
       "      <th>score</th>\n",
       "      <th>runtime</th>\n",
       "      <th>rating_codif</th>\n",
       "      <th>genre_codif</th>\n",
       "      <th>company_codif</th>\n",
       "      <th>budget</th>\n",
       "      <th>votos_por_director</th>\n",
       "      <th>gross</th>\n",
       "    </tr>\n",
       "  </thead>\n",
       "  <tbody>\n",
       "    <tr>\n",
       "      <th>count</th>\n",
       "      <td>7668.000000</td>\n",
       "      <td>7668.000000</td>\n",
       "      <td>7665.000000</td>\n",
       "      <td>7664.000000</td>\n",
       "      <td>7668.000000</td>\n",
       "      <td>7668.000000</td>\n",
       "      <td>7668.000000</td>\n",
       "      <td>5.497000e+03</td>\n",
       "      <td>7.666000e+03</td>\n",
       "      <td>7.479000e+03</td>\n",
       "    </tr>\n",
       "    <tr>\n",
       "      <th>mean</th>\n",
       "      <td>3755.946531</td>\n",
       "      <td>2000.405451</td>\n",
       "      <td>6.390411</td>\n",
       "      <td>107.261613</td>\n",
       "      <td>5.268519</td>\n",
       "      <td>3.633281</td>\n",
       "      <td>1424.809729</td>\n",
       "      <td>3.558988e+07</td>\n",
       "      <td>8.810344e+04</td>\n",
       "      <td>7.850054e+07</td>\n",
       "    </tr>\n",
       "    <tr>\n",
       "      <th>std</th>\n",
       "      <td>2164.610796</td>\n",
       "      <td>11.153508</td>\n",
       "      <td>0.968842</td>\n",
       "      <td>18.581247</td>\n",
       "      <td>1.329606</td>\n",
       "      <td>2.759259</td>\n",
       "      <td>707.826814</td>\n",
       "      <td>4.145730e+07</td>\n",
       "      <td>1.200426e+05</td>\n",
       "      <td>1.657251e+08</td>\n",
       "    </tr>\n",
       "    <tr>\n",
       "      <th>min</th>\n",
       "      <td>0.000000</td>\n",
       "      <td>1980.000000</td>\n",
       "      <td>1.900000</td>\n",
       "      <td>55.000000</td>\n",
       "      <td>0.000000</td>\n",
       "      <td>0.000000</td>\n",
       "      <td>0.000000</td>\n",
       "      <td>3.000000e+03</td>\n",
       "      <td>7.000000e+00</td>\n",
       "      <td>3.090000e+02</td>\n",
       "    </tr>\n",
       "    <tr>\n",
       "      <th>25%</th>\n",
       "      <td>1889.750000</td>\n",
       "      <td>1991.000000</td>\n",
       "      <td>5.800000</td>\n",
       "      <td>95.000000</td>\n",
       "      <td>5.000000</td>\n",
       "      <td>1.000000</td>\n",
       "      <td>798.000000</td>\n",
       "      <td>1.000000e+07</td>\n",
       "      <td>1.566667e+04</td>\n",
       "      <td>4.532056e+06</td>\n",
       "    </tr>\n",
       "    <tr>\n",
       "      <th>50%</th>\n",
       "      <td>3763.500000</td>\n",
       "      <td>2000.000000</td>\n",
       "      <td>6.500000</td>\n",
       "      <td>104.000000</td>\n",
       "      <td>6.000000</td>\n",
       "      <td>4.000000</td>\n",
       "      <td>1573.000000</td>\n",
       "      <td>2.050000e+07</td>\n",
       "      <td>4.642143e+04</td>\n",
       "      <td>2.020576e+07</td>\n",
       "    </tr>\n",
       "    <tr>\n",
       "      <th>75%</th>\n",
       "      <td>5628.250000</td>\n",
       "      <td>2010.000000</td>\n",
       "      <td>7.100000</td>\n",
       "      <td>116.000000</td>\n",
       "      <td>6.000000</td>\n",
       "      <td>6.000000</td>\n",
       "      <td>2141.250000</td>\n",
       "      <td>4.500000e+07</td>\n",
       "      <td>1.145000e+05</td>\n",
       "      <td>7.601669e+07</td>\n",
       "    </tr>\n",
       "    <tr>\n",
       "      <th>max</th>\n",
       "      <td>7511.000000</td>\n",
       "      <td>2020.000000</td>\n",
       "      <td>9.300000</td>\n",
       "      <td>366.000000</td>\n",
       "      <td>12.000000</td>\n",
       "      <td>18.000000</td>\n",
       "      <td>2385.000000</td>\n",
       "      <td>3.560000e+08</td>\n",
       "      <td>1.158091e+06</td>\n",
       "      <td>2.847246e+09</td>\n",
       "    </tr>\n",
       "  </tbody>\n",
       "</table>\n",
       "</div>"
      ],
      "text/plain": [
       "           name_ID         year        score      runtime  rating_codif  \\\n",
       "count  7668.000000  7668.000000  7665.000000  7664.000000   7668.000000   \n",
       "mean   3755.946531  2000.405451     6.390411   107.261613      5.268519   \n",
       "std    2164.610796    11.153508     0.968842    18.581247      1.329606   \n",
       "min       0.000000  1980.000000     1.900000    55.000000      0.000000   \n",
       "25%    1889.750000  1991.000000     5.800000    95.000000      5.000000   \n",
       "50%    3763.500000  2000.000000     6.500000   104.000000      6.000000   \n",
       "75%    5628.250000  2010.000000     7.100000   116.000000      6.000000   \n",
       "max    7511.000000  2020.000000     9.300000   366.000000     12.000000   \n",
       "\n",
       "       genre_codif  company_codif        budget  votos_por_director  \\\n",
       "count  7668.000000    7668.000000  5.497000e+03        7.666000e+03   \n",
       "mean      3.633281    1424.809729  3.558988e+07        8.810344e+04   \n",
       "std       2.759259     707.826814  4.145730e+07        1.200426e+05   \n",
       "min       0.000000       0.000000  3.000000e+03        7.000000e+00   \n",
       "25%       1.000000     798.000000  1.000000e+07        1.566667e+04   \n",
       "50%       4.000000    1573.000000  2.050000e+07        4.642143e+04   \n",
       "75%       6.000000    2141.250000  4.500000e+07        1.145000e+05   \n",
       "max      18.000000    2385.000000  3.560000e+08        1.158091e+06   \n",
       "\n",
       "              gross  \n",
       "count  7.479000e+03  \n",
       "mean   7.850054e+07  \n",
       "std    1.657251e+08  \n",
       "min    3.090000e+02  \n",
       "25%    4.532056e+06  \n",
       "50%    2.020576e+07  \n",
       "75%    7.601669e+07  \n",
       "max    2.847246e+09  "
      ]
     },
     "execution_count": 127,
     "metadata": {},
     "output_type": "execute_result"
    }
   ],
   "source": [
    "df3.describe()"
   ]
  },
  {
   "cell_type": "code",
   "execution_count": 128,
   "metadata": {},
   "outputs": [],
   "source": [
    "df3.dropna(inplace=True)"
   ]
  },
  {
   "cell_type": "code",
   "execution_count": 129,
   "metadata": {},
   "outputs": [
    {
     "name": "stdout",
     "output_type": "stream",
     "text": [
      "<class 'pandas.core.frame.DataFrame'>\n",
      "Index: 5435 entries, 0 to 7652\n",
      "Data columns (total 10 columns):\n",
      " #   Column              Non-Null Count  Dtype  \n",
      "---  ------              --------------  -----  \n",
      " 0   name_ID             5435 non-null   int32  \n",
      " 1   year                5435 non-null   float64\n",
      " 2   score               5435 non-null   float64\n",
      " 3   runtime             5435 non-null   float64\n",
      " 4   rating_codif        5435 non-null   int32  \n",
      " 5   genre_codif         5435 non-null   int32  \n",
      " 6   company_codif       5435 non-null   int32  \n",
      " 7   budget              5435 non-null   float64\n",
      " 8   votos_por_director  5435 non-null   float64\n",
      " 9   gross               5435 non-null   float64\n",
      "dtypes: float64(6), int32(4)\n",
      "memory usage: 382.1 KB\n"
     ]
    }
   ],
   "source": [
    "df3.info()"
   ]
  },
  {
   "cell_type": "code",
   "execution_count": 130,
   "metadata": {},
   "outputs": [
    {
     "data": {
      "image/png": "[encoded data removed]",
      "text/plain": [
       "<Figure size 800x800 with 2 Axes>"
      ]
     },
     "metadata": {},
     "output_type": "display_data"
    }
   ],
   "source": [
    "plt.figure(figsize=(8,8))\n",
    "sns.heatmap(df3.corr(numeric_only=True),annot=True,vmin=-1, cmap='coolwarm', fmt=\".2f\", linewidths=.5);"
   ]
  },
  {
   "cell_type": "markdown",
   "metadata": {},
   "source": [
    "Modelado"
   ]
  },
  {
   "cell_type": "code",
   "execution_count": 131,
   "metadata": {},
   "outputs": [
    {
     "name": "stdout",
     "output_type": "stream",
     "text": [
      "<class 'pandas.core.frame.DataFrame'>\n",
      "Index: 5435 entries, 0 to 7652\n",
      "Data columns (total 10 columns):\n",
      " #   Column              Non-Null Count  Dtype  \n",
      "---  ------              --------------  -----  \n",
      " 0   name_ID             5435 non-null   int32  \n",
      " 1   year                5435 non-null   float64\n",
      " 2   score               5435 non-null   float64\n",
      " 3   runtime             5435 non-null   float64\n",
      " 4   rating_codif        5435 non-null   int32  \n",
      " 5   genre_codif         5435 non-null   int32  \n",
      " 6   company_codif       5435 non-null   int32  \n",
      " 7   budget              5435 non-null   float64\n",
      " 8   votos_por_director  5435 non-null   float64\n",
      " 9   gross               5435 non-null   float64\n",
      "dtypes: float64(6), int32(4)\n",
      "memory usage: 382.1 KB\n"
     ]
    }
   ],
   "source": [
    "df3.info()"
   ]
  },
  {
   "cell_type": "code",
   "execution_count": 187,
   "metadata": {},
   "outputs": [
    {
     "data": {
      "text/plain": [
       "count    5.435000e+03\n",
       "mean     1.030164e+08\n",
       "std      1.871203e+08\n",
       "min      3.090000e+02\n",
       "25%      1.067204e+07\n",
       "50%      3.669007e+07\n",
       "75%      1.119673e+08\n",
       "max      2.847246e+09\n",
       "Name: gross, dtype: float64"
      ]
     },
     "execution_count": 187,
     "metadata": {},
     "output_type": "execute_result"
    }
   ],
   "source": [
    "df3['gross'].describe()"
   ]
  },
  {
   "cell_type": "code",
   "execution_count": 180,
   "metadata": {},
   "outputs": [],
   "source": [
    "X = df3.drop(['gross', 'name_ID', 'company_codif'], axis=1)\n",
    "# X = df3[['votos_por_director','budget']]\n",
    "y = df3['gross']"
   ]
  },
  {
   "cell_type": "code",
   "execution_count": 181,
   "metadata": {},
   "outputs": [
    {
     "data": {
      "text/html": [
       "<div>\n",
       "<style scoped>\n",
       "    .dataframe tbody tr th:only-of-type {\n",
       "        vertical-align: middle;\n",
       "    }\n",
       "\n",
       "    .dataframe tbody tr th {\n",
       "        vertical-align: top;\n",
       "    }\n",
       "\n",
       "    .dataframe thead th {\n",
       "        text-align: right;\n",
       "    }\n",
       "</style>\n",
       "<table border=\"1\" class=\"dataframe\">\n",
       "  <thead>\n",
       "    <tr style=\"text-align: right;\">\n",
       "      <th></th>\n",
       "      <th>year</th>\n",
       "      <th>score</th>\n",
       "      <th>runtime</th>\n",
       "      <th>rating_codif</th>\n",
       "      <th>genre_codif</th>\n",
       "      <th>budget</th>\n",
       "      <th>votos_por_director</th>\n",
       "    </tr>\n",
       "  </thead>\n",
       "  <tbody>\n",
       "    <tr>\n",
       "      <th>0</th>\n",
       "      <td>1980.0</td>\n",
       "      <td>8.4</td>\n",
       "      <td>146.0</td>\n",
       "      <td>6</td>\n",
       "      <td>6</td>\n",
       "      <td>19000000.0</td>\n",
       "      <td>643666.67</td>\n",
       "    </tr>\n",
       "    <tr>\n",
       "      <th>1</th>\n",
       "      <td>1980.0</td>\n",
       "      <td>5.8</td>\n",
       "      <td>104.0</td>\n",
       "      <td>6</td>\n",
       "      <td>1</td>\n",
       "      <td>4500000.0</td>\n",
       "      <td>23394.88</td>\n",
       "    </tr>\n",
       "    <tr>\n",
       "      <th>2</th>\n",
       "      <td>1980.0</td>\n",
       "      <td>8.7</td>\n",
       "      <td>124.0</td>\n",
       "      <td>4</td>\n",
       "      <td>0</td>\n",
       "      <td>18000000.0</td>\n",
       "      <td>448666.67</td>\n",
       "    </tr>\n",
       "    <tr>\n",
       "      <th>3</th>\n",
       "      <td>1980.0</td>\n",
       "      <td>7.7</td>\n",
       "      <td>88.0</td>\n",
       "      <td>4</td>\n",
       "      <td>4</td>\n",
       "      <td>3500000.0</td>\n",
       "      <td>66375.00</td>\n",
       "    </tr>\n",
       "    <tr>\n",
       "      <th>4</th>\n",
       "      <td>1980.0</td>\n",
       "      <td>7.3</td>\n",
       "      <td>98.0</td>\n",
       "      <td>6</td>\n",
       "      <td>4</td>\n",
       "      <td>6000000.0</td>\n",
       "      <td>139766.67</td>\n",
       "    </tr>\n",
       "    <tr>\n",
       "      <th>...</th>\n",
       "      <td>...</td>\n",
       "      <td>...</td>\n",
       "      <td>...</td>\n",
       "      <td>...</td>\n",
       "      <td>...</td>\n",
       "      <td>...</td>\n",
       "      <td>...</td>\n",
       "    </tr>\n",
       "    <tr>\n",
       "      <th>7648</th>\n",
       "      <td>2020.0</td>\n",
       "      <td>6.6</td>\n",
       "      <td>124.0</td>\n",
       "      <td>6</td>\n",
       "      <td>0</td>\n",
       "      <td>90000000.0</td>\n",
       "      <td>140000.00</td>\n",
       "    </tr>\n",
       "    <tr>\n",
       "      <th>7649</th>\n",
       "      <td>2020.0</td>\n",
       "      <td>6.5</td>\n",
       "      <td>99.0</td>\n",
       "      <td>4</td>\n",
       "      <td>0</td>\n",
       "      <td>85000000.0</td>\n",
       "      <td>102000.00</td>\n",
       "    </tr>\n",
       "    <tr>\n",
       "      <th>7650</th>\n",
       "      <td>2020.0</td>\n",
       "      <td>5.6</td>\n",
       "      <td>101.0</td>\n",
       "      <td>4</td>\n",
       "      <td>1</td>\n",
       "      <td>175000000.0</td>\n",
       "      <td>62350.00</td>\n",
       "    </tr>\n",
       "    <tr>\n",
       "      <th>7651</th>\n",
       "      <td>2020.0</td>\n",
       "      <td>6.8</td>\n",
       "      <td>100.0</td>\n",
       "      <td>4</td>\n",
       "      <td>1</td>\n",
       "      <td>135000000.0</td>\n",
       "      <td>42000.00</td>\n",
       "    </tr>\n",
       "    <tr>\n",
       "      <th>7652</th>\n",
       "      <td>2020.0</td>\n",
       "      <td>6.8</td>\n",
       "      <td>149.0</td>\n",
       "      <td>3</td>\n",
       "      <td>0</td>\n",
       "      <td>80000000.0</td>\n",
       "      <td>3700.00</td>\n",
       "    </tr>\n",
       "  </tbody>\n",
       "</table>\n",
       "<p>5435 rows × 7 columns</p>\n",
       "</div>"
      ],
      "text/plain": [
       "        year  score  runtime  rating_codif  genre_codif       budget  \\\n",
       "0     1980.0    8.4    146.0             6            6   19000000.0   \n",
       "1     1980.0    5.8    104.0             6            1    4500000.0   \n",
       "2     1980.0    8.7    124.0             4            0   18000000.0   \n",
       "3     1980.0    7.7     88.0             4            4    3500000.0   \n",
       "4     1980.0    7.3     98.0             6            4    6000000.0   \n",
       "...      ...    ...      ...           ...          ...          ...   \n",
       "7648  2020.0    6.6    124.0             6            0   90000000.0   \n",
       "7649  2020.0    6.5     99.0             4            0   85000000.0   \n",
       "7650  2020.0    5.6    101.0             4            1  175000000.0   \n",
       "7651  2020.0    6.8    100.0             4            1  135000000.0   \n",
       "7652  2020.0    6.8    149.0             3            0   80000000.0   \n",
       "\n",
       "      votos_por_director  \n",
       "0              643666.67  \n",
       "1               23394.88  \n",
       "2              448666.67  \n",
       "3               66375.00  \n",
       "4              139766.67  \n",
       "...                  ...  \n",
       "7648           140000.00  \n",
       "7649           102000.00  \n",
       "7650            62350.00  \n",
       "7651            42000.00  \n",
       "7652             3700.00  \n",
       "\n",
       "[5435 rows x 7 columns]"
      ]
     },
     "execution_count": 181,
     "metadata": {},
     "output_type": "execute_result"
    }
   ],
   "source": [
    "X"
   ]
  },
  {
   "cell_type": "code",
   "execution_count": 134,
   "metadata": {},
   "outputs": [
    {
     "name": "stdout",
     "output_type": "stream",
     "text": [
      "(4348, 2)\n",
      "(1087, 2)\n",
      "(4348,)\n",
      "(1087,)\n"
     ]
    }
   ],
   "source": [
    "X_train, X_test, y_train, y_test = train_test_split(X, y, test_size=0.2, random_state=42)\n",
    "\n",
    "print(X_train.shape)\n",
    "print(X_test.shape)\n",
    "print(y_train.shape)\n",
    "print(y_test.shape)\n"
   ]
  },
  {
   "cell_type": "markdown",
   "metadata": {},
   "source": [
    "PipeLine Regresión Lineal"
   ]
  },
  {
   "cell_type": "code",
   "execution_count": 135,
   "metadata": {},
   "outputs": [],
   "source": [
    "pipeline_lnr = Pipeline([\n",
    "    ('scaler', StandardScaler()),  \n",
    "    ('regression', LinearRegression())\n",
    "    ])"
   ]
  },
  {
   "cell_type": "code",
   "execution_count": 136,
   "metadata": {},
   "outputs": [],
   "source": [
    "parametros_grid = {'regression__fit_intercept': [True, False]}"
   ]
  },
  {
   "cell_type": "code",
   "execution_count": 137,
   "metadata": {},
   "outputs": [],
   "source": [
    "grid_search = GridSearchCV(pipeline_lnr, parametros_grid, scoring='neg_mean_absolute_error', cv=5, verbose=1, n_jobs=-1)"
   ]
  },
  {
   "cell_type": "code",
   "execution_count": 138,
   "metadata": {},
   "outputs": [
    {
     "name": "stdout",
     "output_type": "stream",
     "text": [
      "Fitting 5 folds for each of 2 candidates, totalling 10 fits\n"
     ]
    },
    {
     "data": {
      "text/html": [
       "<style>#sk-container-id-4 {color: black;}#sk-container-id-4 pre{padding: 0;}#sk-container-id-4 div.sk-toggleable {background-color: white;}#sk-container-id-4 label.sk-toggleable__label {cursor: pointer;display: block;width: 100%;margin-bottom: 0;padding: 0.3em;box-sizing: border-box;text-align: center;}#sk-container-id-4 label.sk-toggleable__label-arrow:before {content: \"▸\";float: left;margin-right: 0.25em;color: #696969;}#sk-container-id-4 label.sk-toggleable__label-arrow:hover:before {color: black;}#sk-container-id-4 div.sk-estimator:hover label.sk-toggleable__label-arrow:before {color: black;}#sk-container-id-4 div.sk-toggleable__content {max-height: 0;max-width: 0;overflow: hidden;text-align: left;background-color: #f0f8ff;}#sk-container-id-4 div.sk-toggleable__content pre {margin: 0.2em;color: black;border-radius: 0.25em;background-color: #f0f8ff;}#sk-container-id-4 input.sk-toggleable__control:checked~div.sk-toggleable__content {max-height: 200px;max-width: 100%;overflow: auto;}#sk-container-id-4 input.sk-toggleable__control:checked~label.sk-toggleable__label-arrow:before {content: \"▾\";}#sk-container-id-4 div.sk-estimator input.sk-toggleable__control:checked~label.sk-toggleable__label {background-color: #d4ebff;}#sk-container-id-4 div.sk-label input.sk-toggleable__control:checked~label.sk-toggleable__label {background-color: #d4ebff;}#sk-container-id-4 input.sk-hidden--visually {border: 0;clip: rect(1px 1px 1px 1px);clip: rect(1px, 1px, 1px, 1px);height: 1px;margin: -1px;overflow: hidden;padding: 0;position: absolute;width: 1px;}#sk-container-id-4 div.sk-estimator {font-family: monospace;background-color: #f0f8ff;border: 1px dotted black;border-radius: 0.25em;box-sizing: border-box;margin-bottom: 0.5em;}#sk-container-id-4 div.sk-estimator:hover {background-color: #d4ebff;}#sk-container-id-4 div.sk-parallel-item::after {content: \"\";width: 100%;border-bottom: 1px solid gray;flex-grow: 1;}#sk-container-id-4 div.sk-label:hover label.sk-toggleable__label {background-color: #d4ebff;}#sk-container-id-4 div.sk-serial::before {content: \"\";position: absolute;border-left: 1px solid gray;box-sizing: border-box;top: 0;bottom: 0;left: 50%;z-index: 0;}#sk-container-id-4 div.sk-serial {display: flex;flex-direction: column;align-items: center;background-color: white;padding-right: 0.2em;padding-left: 0.2em;position: relative;}#sk-container-id-4 div.sk-item {position: relative;z-index: 1;}#sk-container-id-4 div.sk-parallel {display: flex;align-items: stretch;justify-content: center;background-color: white;position: relative;}#sk-container-id-4 div.sk-item::before, #sk-container-id-4 div.sk-parallel-item::before {content: \"\";position: absolute;border-left: 1px solid gray;box-sizing: border-box;top: 0;bottom: 0;left: 50%;z-index: -1;}#sk-container-id-4 div.sk-parallel-item {display: flex;flex-direction: column;z-index: 1;position: relative;background-color: white;}#sk-container-id-4 div.sk-parallel-item:first-child::after {align-self: flex-end;width: 50%;}#sk-container-id-4 div.sk-parallel-item:last-child::after {align-self: flex-start;width: 50%;}#sk-container-id-4 div.sk-parallel-item:only-child::after {width: 0;}#sk-container-id-4 div.sk-dashed-wrapped {border: 1px dashed gray;margin: 0 0.4em 0.5em 0.4em;box-sizing: border-box;padding-bottom: 0.4em;background-color: white;}#sk-container-id-4 div.sk-label label {font-family: monospace;font-weight: bold;display: inline-block;line-height: 1.2em;}#sk-container-id-4 div.sk-label-container {text-align: center;}#sk-container-id-4 div.sk-container {/* jupyter's `normalize.less` sets `[hidden] { display: none; }` but bootstrap.min.css set `[hidden] { display: none !important; }` so we also need the `!important` here to be able to override the default hidden behavior on the sphinx rendered scikit-learn.org. See: https://github.com/scikit-learn/scikit-learn/issues/21755 */display: inline-block !important;position: relative;}#sk-container-id-4 div.sk-text-repr-fallback {display: none;}</style><div id=\"sk-container-id-4\" class=\"sk-top-container\"><div class=\"sk-text-repr-fallback\"><pre>GridSearchCV(cv=5,\n",
       "             estimator=Pipeline(steps=[(&#x27;scaler&#x27;, StandardScaler()),\n",
       "                                       (&#x27;regression&#x27;, LinearRegression())]),\n",
       "             n_jobs=-1, param_grid={&#x27;regression__fit_intercept&#x27;: [True, False]},\n",
       "             scoring=&#x27;neg_mean_absolute_error&#x27;, verbose=1)</pre><b>In a Jupyter environment, please rerun this cell to show the HTML representation or trust the notebook. <br />On GitHub, the HTML representation is unable to render, please try loading this page with nbviewer.org.</b></div><div class=\"sk-container\" hidden><div class=\"sk-item sk-dashed-wrapped\"><div class=\"sk-label-container\"><div class=\"sk-label sk-toggleable\"><input class=\"sk-toggleable__control sk-hidden--visually\" id=\"sk-estimator-id-13\" type=\"checkbox\" ><label for=\"sk-estimator-id-13\" class=\"sk-toggleable__label sk-toggleable__label-arrow\">GridSearchCV</label><div class=\"sk-toggleable__content\"><pre>GridSearchCV(cv=5,\n",
       "             estimator=Pipeline(steps=[(&#x27;scaler&#x27;, StandardScaler()),\n",
       "                                       (&#x27;regression&#x27;, LinearRegression())]),\n",
       "             n_jobs=-1, param_grid={&#x27;regression__fit_intercept&#x27;: [True, False]},\n",
       "             scoring=&#x27;neg_mean_absolute_error&#x27;, verbose=1)</pre></div></div></div><div class=\"sk-parallel\"><div class=\"sk-parallel-item\"><div class=\"sk-item\"><div class=\"sk-label-container\"><div class=\"sk-label sk-toggleable\"><input class=\"sk-toggleable__control sk-hidden--visually\" id=\"sk-estimator-id-14\" type=\"checkbox\" ><label for=\"sk-estimator-id-14\" class=\"sk-toggleable__label sk-toggleable__label-arrow\">estimator: Pipeline</label><div class=\"sk-toggleable__content\"><pre>Pipeline(steps=[(&#x27;scaler&#x27;, StandardScaler()),\n",
       "                (&#x27;regression&#x27;, LinearRegression())])</pre></div></div></div><div class=\"sk-serial\"><div class=\"sk-item\"><div class=\"sk-serial\"><div class=\"sk-item\"><div class=\"sk-estimator sk-toggleable\"><input class=\"sk-toggleable__control sk-hidden--visually\" id=\"sk-estimator-id-15\" type=\"checkbox\" ><label for=\"sk-estimator-id-15\" class=\"sk-toggleable__label sk-toggleable__label-arrow\">StandardScaler</label><div class=\"sk-toggleable__content\"><pre>StandardScaler()</pre></div></div></div><div class=\"sk-item\"><div class=\"sk-estimator sk-toggleable\"><input class=\"sk-toggleable__control sk-hidden--visually\" id=\"sk-estimator-id-16\" type=\"checkbox\" ><label for=\"sk-estimator-id-16\" class=\"sk-toggleable__label sk-toggleable__label-arrow\">LinearRegression</label><div class=\"sk-toggleable__content\"><pre>LinearRegression()</pre></div></div></div></div></div></div></div></div></div></div></div></div>"
      ],
      "text/plain": [
       "GridSearchCV(cv=5,\n",
       "             estimator=Pipeline(steps=[('scaler', StandardScaler()),\n",
       "                                       ('regression', LinearRegression())]),\n",
       "             n_jobs=-1, param_grid={'regression__fit_intercept': [True, False]},\n",
       "             scoring='neg_mean_absolute_error', verbose=1)"
      ]
     },
     "execution_count": 138,
     "metadata": {},
     "output_type": "execute_result"
    }
   ],
   "source": [
    "grid_search.fit(X_train, y_train)"
   ]
  },
  {
   "cell_type": "code",
   "execution_count": 139,
   "metadata": {},
   "outputs": [],
   "source": [
    "mejores_parametros_lnr = grid_search.best_params_"
   ]
  },
  {
   "cell_type": "code",
   "execution_count": 140,
   "metadata": {},
   "outputs": [],
   "source": [
    "y_pred = grid_search.predict(X_test)"
   ]
  },
  {
   "cell_type": "code",
   "execution_count": 141,
   "metadata": {},
   "outputs": [],
   "source": [
    "mae = mean_absolute_error(y_test, y_pred)\n",
    "mape = mean_absolute_percentage_error(y_test, y_pred)\n",
    "mse = mean_squared_error(y_test, y_pred)"
   ]
  },
  {
   "cell_type": "code",
   "execution_count": 160,
   "metadata": {},
   "outputs": [
    {
     "name": "stdout",
     "output_type": "stream",
     "text": [
      "Mejores hiperparámetros: {'regression__fit_intercept': True}\n",
      "MAE: 61184244.36\n",
      "MAPE: 46.89 %\n"
     ]
    }
   ],
   "source": [
    "print(f\"Mejores hiperparámetros: {mejores_parametros_lnr}\")\n",
    "print(f\"MAE: {round(mae, 2)}\")\n",
    "print(f\"MAPE: {round(mape, 2)} %\")"
   ]
  },
  {
   "cell_type": "markdown",
   "metadata": {},
   "source": [
    "Mejores hiperparámetros: {'regression__fit_intercept': True}\n",
    "\n",
    "Esto te indica que, según la búsqueda de hiperparámetros, el mejor valor para el hiperparámetro fit_intercept de tu modelo de regresión lineal fue True.\n",
    "MAE: 67801748.76227577\n",
    "\n",
    "El error absoluto medio (MAE) es una métrica que mide el promedio de las diferencias absolutas entre las predicciones y los valores reales. En este caso, un valor de MAE de 67801748.76 significa que, en promedio, las predicciones de tu modelo difieren en alrededor de 67,801,748.76 unidades del valor real.\n",
    "MAPE: 50.60132354176165\n",
    "\n",
    "El error porcentual absoluto medio (MAPE) es una métrica que mide el promedio de los errores porcentuales absolutos entre las predicciones y los valores reales. Un valor de MAPE del 50.60% indica que, en promedio, las predicciones tienen un error del 50.60% en comparación con los valores reales.\n",
    "MSE: 1.4230961428195888e+16\n",
    "\n",
    "El error cuadrático medio (MSE) es una métrica que mide el promedio de los cuadrados de las diferencias entre las predicciones y los valores reales. El valor de MSE en notación científica (1.42e+16) indica que el cuadrado medio de las diferencias es bastante grande."
   ]
  },
  {
   "cell_type": "markdown",
   "metadata": {},
   "source": [
    "PipeLine Regresión Polinomial"
   ]
  },
  {
   "cell_type": "code",
   "execution_count": 143,
   "metadata": {},
   "outputs": [],
   "source": [
    "from sklearn.preprocessing import PolynomialFeatures"
   ]
  },
  {
   "cell_type": "code",
   "execution_count": 161,
   "metadata": {},
   "outputs": [
    {
     "name": "stdout",
     "output_type": "stream",
     "text": [
      "Fitting 5 folds for each of 8 candidates, totalling 40 fits\n",
      "Mejores hiperparámetros: {'poly__degree': 5, 'regression__fit_intercept': False}\n",
      "MAE: 60519092.72\n",
      "MAPE: 49.89 %\n"
     ]
    }
   ],
   "source": [
    "pipeline_polyr = Pipeline([\n",
    "    ('scaler', StandardScaler()),\n",
    "    ('poly', PolynomialFeatures()),\n",
    "    ('regression', LinearRegression()) \n",
    "])\n",
    "\n",
    "parametros_grid = {\n",
    "    'poly__degree': [2, 3, 4, 5], \n",
    "    'regression__fit_intercept': [True, False]\n",
    "}\n",
    "\n",
    "grid_search = GridSearchCV(pipeline_polyr, parametros_grid, scoring='neg_mean_absolute_error', cv=5, verbose=1, n_jobs=-1)\n",
    "grid_search.fit(X_train, y_train)\n",
    "mejores_parametros_polyr = grid_search.best_params_\n",
    "y_pred = grid_search.predict(X_test)\n",
    "\n",
    "\n",
    "mae = mean_absolute_error(y_test, y_pred)\n",
    "mape = mean_absolute_percentage_error(y_test, y_pred)\n",
    "mse = mean_squared_error(y_test, y_pred)\n",
    "\n",
    "print(f\"Mejores hiperparámetros: {mejores_parametros_polyr}\")\n",
    "print(f\"MAE: {round(mae, 2)}\")\n",
    "print(f\"MAPE: {round(mape, 2)} %\")\n"
   ]
  },
  {
   "cell_type": "markdown",
   "metadata": {},
   "source": [
    "Ridge"
   ]
  },
  {
   "cell_type": "code",
   "execution_count": 145,
   "metadata": {},
   "outputs": [],
   "source": [
    "from sklearn.linear_model import Ridge"
   ]
  },
  {
   "cell_type": "code",
   "execution_count": 162,
   "metadata": {},
   "outputs": [
    {
     "name": "stdout",
     "output_type": "stream",
     "text": [
      "Fitting 5 folds for each of 12 candidates, totalling 60 fits\n",
      "Mejores hiperparámetros: {'poly__degree': 5, 'ridge__alpha': 10.0}\n",
      "MAE: 60571029.87\n",
      "MAPE: 50.02 %\n"
     ]
    }
   ],
   "source": [
    "pipeline_ridge = Pipeline([\n",
    "    ('scaler', StandardScaler()),\n",
    "    ('poly', PolynomialFeatures()),\n",
    "    ('ridge', Ridge()) \n",
    "])\n",
    "\n",
    "parametros_grid = {\n",
    "    'poly__degree': [2, 3, 4, 5], \n",
    "    'ridge__alpha': [0.1, 1.0, 10.0], \n",
    "}\n",
    "\n",
    "grid_search = GridSearchCV(pipeline_ridge, parametros_grid, scoring='neg_mean_absolute_error', cv=5, verbose=1, n_jobs=-1)\n",
    "grid_search.fit(X_train, y_train)\n",
    "mejores_parametros_ridge = grid_search.best_params_\n",
    "y_pred = grid_search.predict(X_test)\n",
    "\n",
    "mae = mean_absolute_error(y_test, y_pred)\n",
    "mape = mean_absolute_percentage_error(y_test, y_pred)\n",
    "mse = mean_squared_error(y_test, y_pred)\n",
    "\n",
    "print(f\"Mejores hiperparámetros: {mejores_parametros_ridge}\")\n",
    "print(f\"MAE: {round(mae, 2)}\")\n",
    "print(f\"MAPE: {round(mape, 2)} %\")\n"
   ]
  },
  {
   "cell_type": "markdown",
   "metadata": {},
   "source": [
    "Lasso"
   ]
  },
  {
   "cell_type": "code",
   "execution_count": 147,
   "metadata": {},
   "outputs": [],
   "source": [
    "from sklearn.linear_model import Lasso"
   ]
  },
  {
   "cell_type": "code",
   "execution_count": 163,
   "metadata": {},
   "outputs": [
    {
     "name": "stdout",
     "output_type": "stream",
     "text": [
      "Fitting 5 folds for each of 12 candidates, totalling 60 fits\n",
      "Mejores hiperparámetros: {'lasso__alpha': 0.1, 'poly__degree': 4}\n",
      "MAE: 60470102.54\n",
      "MAPE: 47.57 %\n"
     ]
    },
    {
     "name": "stderr",
     "output_type": "stream",
     "text": [
      "c:\\Users\\Usuario\\AppData\\Local\\Programs\\Python\\Python311\\Lib\\site-packages\\sklearn\\linear_model\\_coordinate_descent.py:628: ConvergenceWarning: Objective did not converge. You might want to increase the number of iterations, check the scale of the features or consider increasing regularisation. Duality gap: 2.739e+19, tolerance: 1.536e+16\n",
      "  model = cd_fast.enet_coordinate_descent(\n"
     ]
    }
   ],
   "source": [
    "pipeline_lasso = Pipeline([\n",
    "    ('scaler', StandardScaler()),  \n",
    "    ('poly', PolynomialFeatures()),  \n",
    "    ('lasso', Lasso())  \n",
    "])\n",
    "\n",
    "parametros_grid = {\n",
    "    'poly__degree': [2, 3, 4, 5],  \n",
    "    'lasso__alpha': [0.1, 1.0, 10.0], \n",
    "}\n",
    "\n",
    "grid_search = GridSearchCV(pipeline_lasso, parametros_grid, scoring='neg_mean_absolute_error', cv=5, verbose=1, n_jobs=-1)\n",
    "grid_search.fit(X_train, y_train)\n",
    "mejores_parametros_lasso = grid_search.best_params_\n",
    "y_pred = grid_search.predict(X_test)\n",
    "\n",
    "mae = mean_absolute_error(y_test, y_pred)\n",
    "mape = mean_absolute_percentage_error(y_test, y_pred)\n",
    "mse = mean_squared_error(y_test, y_pred)\n",
    "\n",
    "print(f\"Mejores hiperparámetros: {mejores_parametros_lasso}\")\n",
    "print(f\"MAE: {round(mae, 2)}\")\n",
    "print(f\"MAPE: {round(mape, 2)} %\")\n"
   ]
  },
  {
   "cell_type": "markdown",
   "metadata": {},
   "source": [
    "Elastic Net"
   ]
  },
  {
   "cell_type": "code",
   "execution_count": 149,
   "metadata": {},
   "outputs": [],
   "source": [
    "from sklearn.linear_model import ElasticNet"
   ]
  },
  {
   "cell_type": "code",
   "execution_count": 164,
   "metadata": {},
   "outputs": [
    {
     "name": "stdout",
     "output_type": "stream",
     "text": [
      "Fitting 5 folds for each of 27 candidates, totalling 135 fits\n",
      "Mejores hiperparámetros: {'elastic_net__alpha': 0.1, 'elastic_net__l1_ratio': 0.9, 'poly__degree': 2}\n",
      "MAE: 61184244.36\n",
      "MAPE: 46.89 %\n"
     ]
    }
   ],
   "source": [
    "pipeline_en = Pipeline([\n",
    "    ('scaler', StandardScaler()), \n",
    "    ('poly', PolynomialFeatures()), \n",
    "    ('elastic_net', ElasticNet())\n",
    "])\n",
    "\n",
    "parametros_grid = {\n",
    "    'poly__degree': [1, 2, 3], \n",
    "    'elastic_net__alpha': [0.1, 1.0, 10.0], \n",
    "    'elastic_net__l1_ratio': [0.1, 0.5, 0.9]\n",
    "}\n",
    "\n",
    "grid_search = GridSearchCV(pipeline_en, parametros_grid, scoring='neg_mean_absolute_error', cv=5, verbose=1, n_jobs=-1)\n",
    "grid_search.fit(X_train, y_train)\n",
    "mejores_parametros_en = grid_search.best_params_\n",
    "y_pred = grid_search.predict(X_test)\n",
    "\n",
    "mae = mean_absolute_error(y_test, y_pred)\n",
    "mape = mean_absolute_percentage_error(y_test, y_pred)\n",
    "mse = mean_squared_error(y_test, y_pred)\n",
    "\n",
    "print(f\"Mejores hiperparámetros: {mejores_parametros_en}\")\n",
    "print(f\"MAE: {round(mae, 2)}\")\n",
    "print(f\"MAPE: {round(mape, 2)} %\")\n"
   ]
  },
  {
   "cell_type": "markdown",
   "metadata": {},
   "source": [
    "Random Forest Regressor"
   ]
  },
  {
   "cell_type": "code",
   "execution_count": 151,
   "metadata": {},
   "outputs": [],
   "source": [
    "from sklearn.ensemble import RandomForestRegressor\n",
    "from sklearn.metrics import mean_absolute_error, mean_squared_error, r2_score"
   ]
  },
  {
   "cell_type": "code",
   "execution_count": 166,
   "metadata": {},
   "outputs": [
    {
     "name": "stdout",
     "output_type": "stream",
     "text": [
      "Random Forest Regressor:\n",
      "MAE: 66575436.53\n",
      "MSE: 1.6629723066916108e+16\n",
      "R2: 0.51\n"
     ]
    }
   ],
   "source": [
    "modelo_rf = RandomForestRegressor(n_estimators=100, random_state=42)\n",
    "modelo_rf.fit(X_train, y_train)\n",
    "y_pred_rf = modelo_rf.predict(X_test)\n",
    "\n",
    "mae_rf = mean_absolute_error(y_test, y_pred_rf)\n",
    "mse_rf = mean_squared_error(y_test, y_pred_rf)\n",
    "r2_rf = r2_score(y_test, y_pred_rf)\n",
    "\n",
    "print(\"Random Forest Regressor:\")\n",
    "print(f\"MAE: {round(mae_rf, 2)}\")\n",
    "print(f\"R2: {round(r2_rf, 2)}\")\n"
   ]
  },
  {
   "cell_type": "markdown",
   "metadata": {},
   "source": [
    "Gradient Boosting"
   ]
  },
  {
   "cell_type": "code",
   "execution_count": 153,
   "metadata": {},
   "outputs": [],
   "source": [
    "from sklearn.ensemble import GradientBoostingRegressor"
   ]
  },
  {
   "cell_type": "code",
   "execution_count": 167,
   "metadata": {},
   "outputs": [
    {
     "name": "stdout",
     "output_type": "stream",
     "text": [
      "Gradient Boosting Regressor:\n",
      "MAE: 62234160.62\n",
      "MSE: 1.4911167725573736e+16\n",
      "R2: 0.56\n"
     ]
    }
   ],
   "source": [
    "modelo_gb = GradientBoostingRegressor(n_estimators=100, random_state=42)\n",
    "modelo_gb.fit(X_train, y_train)\n",
    "y_pred_gb = modelo_gb.predict(X_test)\n",
    "\n",
    "mae_gb = mean_absolute_error(y_test, y_pred_gb)\n",
    "mse_gb = mean_squared_error(y_test, y_pred_gb)\n",
    "r2_gb = r2_score(y_test, y_pred_gb)\n",
    "\n",
    "print(\"Gradient Boosting Regressor:\")\n",
    "print(f\"MAE: {round(mae_gb, 2)}\")\n",
    "print(f\"R2: {round(r2_gb, 2)}\")"
   ]
  },
  {
   "cell_type": "code",
   "execution_count": 182,
   "metadata": {},
   "outputs": [
    {
     "name": "stdout",
     "output_type": "stream",
     "text": [
      "Fitting 5 folds for each of 168 candidates, totalling 840 fits\n",
      "Mejores hiperparámetros: {'poly__degree': 4, 'regressor__alpha': 0.001, 'regressor__l1_ratio': 0.9, 'scaler': None}\n",
      "MAE: 60536104.09\n",
      "MSE: 1.394932960511159e+16\n"
     ]
    },
    {
     "name": "stderr",
     "output_type": "stream",
     "text": [
      "c:\\Users\\Usuario\\AppData\\Local\\Programs\\Python\\Python311\\Lib\\site-packages\\sklearn\\linear_model\\_coordinate_descent.py:628: ConvergenceWarning: Objective did not converge. You might want to increase the number of iterations, check the scale of the features or consider increasing regularisation. Duality gap: 2.749e+19, tolerance: 1.536e+16\n",
      "  model = cd_fast.enet_coordinate_descent(\n"
     ]
    }
   ],
   "source": [
    "pipeline_reg = Pipeline([\n",
    "    ('scaler', StandardScaler()),  \n",
    "    ('poly', PolynomialFeatures()),  \n",
    "    ('regressor', ElasticNet())\n",
    "])\n",
    "\n",
    "parametros_grid = {\n",
    "    'scaler' : [StandardScaler(), None],\n",
    "    'poly__degree': [2, 3, 4, 5],  \n",
    "    'regressor__alpha': np.logspace(-3, 3, 7), \n",
    "    'regressor__l1_ratio': [0.1, 0.5, 0.9] \n",
    "}\n",
    "\n",
    "\n",
    "grid_search = GridSearchCV(pipeline_reg, parametros_grid, scoring='neg_mean_absolute_error', cv=5, verbose=1, n_jobs=-1)\n",
    "grid_search.fit(X_train, y_train)\n",
    "mejores_parametros_reg = grid_search.best_params_\n",
    "y_pred = grid_search.predict(X_test)\n",
    "\n",
    "mae = mean_absolute_error(y_test, y_pred)\n",
    "mse = mean_squared_error(y_test, y_pred)\n",
    "\n",
    "\n",
    "print(f\"Mejores hiperparámetros: {mejores_parametros_reg}\")\n",
    "print(f\"MAE: {round(mae, 2)}\")\n",
    "print(f\"MSE: {round(mse, 2)}\")\n"
   ]
  },
  {
   "cell_type": "code",
   "execution_count": 188,
   "metadata": {},
   "outputs": [],
   "source": [
    "data = {'y_pred': y_pred, 'y_test': y_test, 'diferencia': y_pred - y_test}\n",
    "comprobacion = pd.DataFrame(data)"
   ]
  },
  {
   "cell_type": "code",
   "execution_count": 191,
   "metadata": {},
   "outputs": [
    {
     "data": {
      "text/html": [
       "<div>\n",
       "<style scoped>\n",
       "    .dataframe tbody tr th:only-of-type {\n",
       "        vertical-align: middle;\n",
       "    }\n",
       "\n",
       "    .dataframe tbody tr th {\n",
       "        vertical-align: top;\n",
       "    }\n",
       "\n",
       "    .dataframe thead th {\n",
       "        text-align: right;\n",
       "    }\n",
       "</style>\n",
       "<table border=\"1\" class=\"dataframe\">\n",
       "  <thead>\n",
       "    <tr style=\"text-align: right;\">\n",
       "      <th></th>\n",
       "      <th>y_pred</th>\n",
       "      <th>y_test</th>\n",
       "      <th>diferencia</th>\n",
       "    </tr>\n",
       "  </thead>\n",
       "  <tbody>\n",
       "    <tr>\n",
       "      <th>4780</th>\n",
       "      <td>4.198898e+07</td>\n",
       "      <td>1123136.0</td>\n",
       "      <td>4.086584e+07</td>\n",
       "    </tr>\n",
       "    <tr>\n",
       "      <th>7294</th>\n",
       "      <td>1.370872e+08</td>\n",
       "      <td>31882724.0</td>\n",
       "      <td>1.052045e+08</td>\n",
       "    </tr>\n",
       "    <tr>\n",
       "      <th>3492</th>\n",
       "      <td>5.499903e+07</td>\n",
       "      <td>42593455.0</td>\n",
       "      <td>1.240558e+07</td>\n",
       "    </tr>\n",
       "    <tr>\n",
       "      <th>5764</th>\n",
       "      <td>1.620014e+08</td>\n",
       "      <td>134748021.0</td>\n",
       "      <td>2.725340e+07</td>\n",
       "    </tr>\n",
       "    <tr>\n",
       "      <th>1612</th>\n",
       "      <td>2.102996e+07</td>\n",
       "      <td>3560932.0</td>\n",
       "      <td>1.746902e+07</td>\n",
       "    </tr>\n",
       "    <tr>\n",
       "      <th>...</th>\n",
       "      <td>...</td>\n",
       "      <td>...</td>\n",
       "      <td>...</td>\n",
       "    </tr>\n",
       "    <tr>\n",
       "      <th>1403</th>\n",
       "      <td>8.715737e+06</td>\n",
       "      <td>40397.0</td>\n",
       "      <td>8.675340e+06</td>\n",
       "    </tr>\n",
       "    <tr>\n",
       "      <th>3220</th>\n",
       "      <td>7.389304e+07</td>\n",
       "      <td>19745922.0</td>\n",
       "      <td>5.414711e+07</td>\n",
       "    </tr>\n",
       "    <tr>\n",
       "      <th>1889</th>\n",
       "      <td>2.792393e+07</td>\n",
       "      <td>31347154.0</td>\n",
       "      <td>-3.423228e+06</td>\n",
       "    </tr>\n",
       "    <tr>\n",
       "      <th>2794</th>\n",
       "      <td>5.751446e+06</td>\n",
       "      <td>10426506.0</td>\n",
       "      <td>-4.675060e+06</td>\n",
       "    </tr>\n",
       "    <tr>\n",
       "      <th>4179</th>\n",
       "      <td>2.339738e+07</td>\n",
       "      <td>3657876.0</td>\n",
       "      <td>1.973950e+07</td>\n",
       "    </tr>\n",
       "  </tbody>\n",
       "</table>\n",
       "<p>1087 rows × 3 columns</p>\n",
       "</div>"
      ],
      "text/plain": [
       "            y_pred       y_test    diferencia\n",
       "4780  4.198898e+07    1123136.0  4.086584e+07\n",
       "7294  1.370872e+08   31882724.0  1.052045e+08\n",
       "3492  5.499903e+07   42593455.0  1.240558e+07\n",
       "5764  1.620014e+08  134748021.0  2.725340e+07\n",
       "1612  2.102996e+07    3560932.0  1.746902e+07\n",
       "...            ...          ...           ...\n",
       "1403  8.715737e+06      40397.0  8.675340e+06\n",
       "3220  7.389304e+07   19745922.0  5.414711e+07\n",
       "1889  2.792393e+07   31347154.0 -3.423228e+06\n",
       "2794  5.751446e+06   10426506.0 -4.675060e+06\n",
       "4179  2.339738e+07    3657876.0  1.973950e+07\n",
       "\n",
       "[1087 rows x 3 columns]"
      ]
     },
     "execution_count": 191,
     "metadata": {},
     "output_type": "execute_result"
    }
   ],
   "source": [
    "comprobacion"
   ]
  },
  {
   "cell_type": "code",
   "execution_count": 196,
   "metadata": {},
   "outputs": [
    {
     "data": {
      "text/html": [
       "<div>\n",
       "<style scoped>\n",
       "    .dataframe tbody tr th:only-of-type {\n",
       "        vertical-align: middle;\n",
       "    }\n",
       "\n",
       "    .dataframe tbody tr th {\n",
       "        vertical-align: top;\n",
       "    }\n",
       "\n",
       "    .dataframe thead th {\n",
       "        text-align: right;\n",
       "    }\n",
       "</style>\n",
       "<table border=\"1\" class=\"dataframe\">\n",
       "  <thead>\n",
       "    <tr style=\"text-align: right;\">\n",
       "      <th></th>\n",
       "      <th>y_pred</th>\n",
       "      <th>y_test</th>\n",
       "      <th>diferencia</th>\n",
       "    </tr>\n",
       "  </thead>\n",
       "  <tbody>\n",
       "    <tr>\n",
       "      <th>6079</th>\n",
       "      <td>1.248546e+09</td>\n",
       "      <td>2.841391e+08</td>\n",
       "      <td>9.644072e+08</td>\n",
       "    </tr>\n",
       "    <tr>\n",
       "      <th>4870</th>\n",
       "      <td>1.168874e+09</td>\n",
       "      <td>3.910812e+08</td>\n",
       "      <td>7.777925e+08</td>\n",
       "    </tr>\n",
       "    <tr>\n",
       "      <th>6378</th>\n",
       "      <td>7.703718e+08</td>\n",
       "      <td>1.976876e+08</td>\n",
       "      <td>5.726842e+08</td>\n",
       "    </tr>\n",
       "    <tr>\n",
       "      <th>6692</th>\n",
       "      <td>7.253669e+08</td>\n",
       "      <td>2.090357e+08</td>\n",
       "      <td>5.163312e+08</td>\n",
       "    </tr>\n",
       "    <tr>\n",
       "      <th>7261</th>\n",
       "      <td>8.453288e+08</td>\n",
       "      <td>3.929248e+08</td>\n",
       "      <td>4.524040e+08</td>\n",
       "    </tr>\n",
       "    <tr>\n",
       "      <th>...</th>\n",
       "      <td>...</td>\n",
       "      <td>...</td>\n",
       "      <td>...</td>\n",
       "    </tr>\n",
       "    <tr>\n",
       "      <th>209</th>\n",
       "      <td>8.569012e+07</td>\n",
       "      <td>7.929106e+08</td>\n",
       "      <td>-7.072204e+08</td>\n",
       "    </tr>\n",
       "    <tr>\n",
       "      <th>7051</th>\n",
       "      <td>2.260968e+08</td>\n",
       "      <td>9.625429e+08</td>\n",
       "      <td>-7.364461e+08</td>\n",
       "    </tr>\n",
       "    <tr>\n",
       "      <th>6262</th>\n",
       "      <td>5.133870e+08</td>\n",
       "      <td>1.281508e+09</td>\n",
       "      <td>-7.681211e+08</td>\n",
       "    </tr>\n",
       "    <tr>\n",
       "      <th>7450</th>\n",
       "      <td>2.512589e+08</td>\n",
       "      <td>1.074427e+09</td>\n",
       "      <td>-8.231685e+08</td>\n",
       "    </tr>\n",
       "    <tr>\n",
       "      <th>6663</th>\n",
       "      <td>1.093017e+09</td>\n",
       "      <td>2.069522e+09</td>\n",
       "      <td>-9.765050e+08</td>\n",
       "    </tr>\n",
       "  </tbody>\n",
       "</table>\n",
       "<p>1087 rows × 3 columns</p>\n",
       "</div>"
      ],
      "text/plain": [
       "            y_pred        y_test    diferencia\n",
       "6079  1.248546e+09  2.841391e+08  9.644072e+08\n",
       "4870  1.168874e+09  3.910812e+08  7.777925e+08\n",
       "6378  7.703718e+08  1.976876e+08  5.726842e+08\n",
       "6692  7.253669e+08  2.090357e+08  5.163312e+08\n",
       "7261  8.453288e+08  3.929248e+08  4.524040e+08\n",
       "...            ...           ...           ...\n",
       "209   8.569012e+07  7.929106e+08 -7.072204e+08\n",
       "7051  2.260968e+08  9.625429e+08 -7.364461e+08\n",
       "6262  5.133870e+08  1.281508e+09 -7.681211e+08\n",
       "7450  2.512589e+08  1.074427e+09 -8.231685e+08\n",
       "6663  1.093017e+09  2.069522e+09 -9.765050e+08\n",
       "\n",
       "[1087 rows x 3 columns]"
      ]
     },
     "execution_count": 196,
     "metadata": {},
     "output_type": "execute_result"
    }
   ],
   "source": [
    "comprobacion.sort_values(by='diferencia', ascending=False)"
   ]
  },
  {
   "cell_type": "code",
   "execution_count": 197,
   "metadata": {},
   "outputs": [],
   "source": [
    "# idea de mostrar una grafica con que peliculas por categorias de facturación son las que mejor predice en funcion a los presupuestos?"
   ]
  },
  {
   "cell_type": "code",
   "execution_count": null,
   "metadata": {},
   "outputs": [],
   "source": [
    "import pickle"
   ]
  },
  {
   "cell_type": "code",
   "execution_count": null,
   "metadata": {},
   "outputs": [],
   "source": [
    "with open('my_model.pkl', \"wb\") as archivo_salida:\n",
    "    pickle.dump(final_model, archivo_salida)"
   ]
  },
  {
   "cell_type": "code",
   "execution_count": null,
   "metadata": {},
   "outputs": [],
   "source": [
    "with open('my_model.pkl', 'rb') as archivo_entrada:\n",
    "    model_pretrained = pickle.load(archivo_entrada)"
   ]
  }
 ],
 "metadata": {
  "kernelspec": {
   "display_name": "Python 3",
   "language": "python",
   "name": "python3"
  },
  "language_info": {
   "codemirror_mode": {
    "name": "ipython",
    "version": 3
   },
   "file_extension": ".py",
   "mimetype": "text/x-python",
   "name": "python",
   "nbconvert_exporter": "python",
   "pygments_lexer": "ipython3",
   "version": "3.11.4"
  }
 },
 "nbformat": 4,
 "nbformat_minor": 2
}
