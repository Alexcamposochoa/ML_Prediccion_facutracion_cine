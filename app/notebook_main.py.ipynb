{
 "cells": [
  {
   "cell_type": "code",
   "execution_count": 4,
   "metadata": {},
   "outputs": [],
   "source": [
    "import streamlit as st\n",
    "import pandas as pd\n",
    "from PIL import Image\n",
    "import streamlit.components.v1 as c\n",
    "\n",
    "st.set_page_config(page_title=\"Cargadores\",\n",
    "                   page_icon=\":electric_plug:\")\n",
    "\n",
    "seleccion = st.sidebar.selectbox(\"Selecciona menu\", ['Home','Datos'])\n",
    "\n",
    "if seleccion == \"Home\":\n",
    "    st.title(\"Cargadores Madrid\")\n",
    "    img = Image.open(\"data/puntos-recarga-madrid.jpg\")\n",
    "    st.image(img)\n",
    "    with st.expander(\"Introducción\"):\n",
    "        st.write(\"Es una solución factible para empezar a trasicionar a un tipo de energías más limpias en cuanto a emisiones en la ciudad\")\n",
    "\n",
    "    with st.expander(\"Tabla\"):\n",
    "        df = pd.read_csv(\"data/red_recarga_acceso_publico.csv\", sep=\";\")\n",
    "        st.write(df.head())\n",
    "\n",
    "elif seleccion == \"Datos\":\n",
    "\n",
    "    df = pd.read_csv(\"data/red_recarga_acceso_publico.csv\", sep=\";\")\n",
    "\n",
    "    filtro = st.sidebar.selectbox(\"Selecciona un distrito\", df['DISTRITO'].unique())\n",
    "    df_filtered = df[df['DISTRITO']==filtro]\n",
    "    st.write(df_filtered)\n",
    "\n",
    "    file = open(\"data/heatmap.html\", \"r\")\n",
    "    c.html(file.read(), height=400)\n",
    "\n",
    "    df_filtered.rename(columns={\"latidtud\":\"lat\", \"longitud\":\"lon\"}, inplace=True)\n",
    "    # st.write(df)\n",
    "\n",
    "    st.map(df_filtered)\n",
    "\n",
    "    filtro_2 = st.sidebar.radio(\"Elige el nº de cargadores\", [1,2,3,4])\n",
    "\n",
    "    st.sidebar.button(\"Click aquí\")"
   ]
  }
 ],
 "metadata": {
  "kernelspec": {
   "display_name": "Python 3",
   "language": "python",
   "name": "python3"
  },
  "language_info": {
   "codemirror_mode": {
    "name": "ipython",
    "version": 3
   },
   "file_extension": ".py",
   "mimetype": "text/x-python",
   "name": "python",
   "nbconvert_exporter": "python",
   "pygments_lexer": "ipython3",
   "version": "3.11.5"
  }
 },
 "nbformat": 4,
 "nbformat_minor": 2
}
