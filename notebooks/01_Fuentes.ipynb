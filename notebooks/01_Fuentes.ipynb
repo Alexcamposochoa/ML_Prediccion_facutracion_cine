{
 "cells": [
  {
   "cell_type": "markdown",
   "metadata": {},
   "source": [
    "## Fuentes Utilizadas\n",
    "\n",
    "### Dataset\n",
    "\n",
    "El conjunto de datos utilizado en este proyecto proviene de una fuente desconocida. Se trata de un dataset reutilizado durante la búsqueda de datos para el Análisis Exploratorio de Datos (EDA). Este conjunto de datos no se encuentra disponible en Kaggle con un nombre específico, pero se presume que proviene de bases de datos en línea, como [Google](https://www.google.com/), [World Bank](https://databank.worldbank.org/source/world-development-indicators), u otras fuentes similares.\n",
    "\n",
    "### Información sobre Variables\n",
    "\n",
    "La información detallada acerca de las variables utilizadas se obtuvo de diversas fuentes:\n",
    "\n",
    "- **Wikipedia:** Se consultó esta enciclopedia en línea para obtener información contextual y específica sobre las variables relacionadas con las películas ([Wikipedia](https://www.wikipedia.org/)).\n",
    "\n",
    "- **FilmAffinity e IMDb:** Se recurrió a estas plataformas cinematográficas para obtener datos detallados sobre películas, incluyendo información sobre géneros, calificaciones, y detalles relacionados con el reparto y la dirección ([FilmAffinity](https://www.filmaffinity.com/), [IMDb](https://www.imdb.com/)).\n",
    "\n",
    "### Mapeo de Variables\n",
    "\n",
    "Para el mapeo de variables, se utilizó la herramienta [ChatGPT](https://www.openai.com/gpt) de OpenAI. Esta herramienta, basada en tecnologías de procesamiento de lenguaje natural, se empleó para establecer las notas asignadas a directores y estrellas. El uso de ChatGPT permitió un análisis más amplio y contextualizado de las calificaciones, contribuyendo así a la comprensión y evaluación de las variables en cuestión.\n",
    "\n",
    "*Nota:* Se ha hecho un esfuerzo consciente por citar y acceder a fuentes variadas para garantizar la fiabilidad y la diversidad de la información utilizada en este proyecto.\n"
   ]
  }
 ],
 "metadata": {
  "language_info": {
   "name": "python"
  }
 },
 "nbformat": 4,
 "nbformat_minor": 2
}
